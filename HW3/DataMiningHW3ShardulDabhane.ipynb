{
 "cells": [
  {
   "cell_type": "markdown",
   "metadata": {},
   "source": [
    "# Shardul Dabhane"
   ]
  },
  {
   "cell_type": "markdown",
   "metadata": {},
   "source": [
    "# Problem 3: Changes in Kaggle Code for KNN"
   ]
  },
  {
   "cell_type": "code",
   "execution_count": 1,
   "metadata": {
    "_cell_guid": "cd90f087-5bb3-4a68-86db-cd5eb59a71dc",
    "_uuid": "77872d05-03df-4bfa-a0df-841c7db7a4c2",
    "execution": {
     "iopub.execute_input": "2022-02-21T20:53:18.992737Z",
     "iopub.status.busy": "2022-02-21T20:53:18.992314Z",
     "iopub.status.idle": "2022-02-21T20:53:26.310169Z",
     "shell.execute_reply": "2022-02-21T20:53:26.309261Z",
     "shell.execute_reply.started": "2022-02-21T20:53:18.992676Z"
    }
   },
   "outputs": [
    {
     "name": "stdout",
     "output_type": "stream",
     "text": [
      "(284807, 31)\n"
     ]
    },
    {
     "data": {
      "text/html": [
       "<div>\n",
       "<style scoped>\n",
       "    .dataframe tbody tr th:only-of-type {\n",
       "        vertical-align: middle;\n",
       "    }\n",
       "\n",
       "    .dataframe tbody tr th {\n",
       "        vertical-align: top;\n",
       "    }\n",
       "\n",
       "    .dataframe thead th {\n",
       "        text-align: right;\n",
       "    }\n",
       "</style>\n",
       "<table border=\"1\" class=\"dataframe\">\n",
       "  <thead>\n",
       "    <tr style=\"text-align: right;\">\n",
       "      <th></th>\n",
       "      <th>Time</th>\n",
       "      <th>V1</th>\n",
       "      <th>V2</th>\n",
       "      <th>V3</th>\n",
       "      <th>V4</th>\n",
       "      <th>V5</th>\n",
       "      <th>V6</th>\n",
       "      <th>V7</th>\n",
       "      <th>V8</th>\n",
       "      <th>V9</th>\n",
       "      <th>...</th>\n",
       "      <th>V21</th>\n",
       "      <th>V22</th>\n",
       "      <th>V23</th>\n",
       "      <th>V24</th>\n",
       "      <th>V25</th>\n",
       "      <th>V26</th>\n",
       "      <th>V27</th>\n",
       "      <th>V28</th>\n",
       "      <th>Amount</th>\n",
       "      <th>Class</th>\n",
       "    </tr>\n",
       "  </thead>\n",
       "  <tbody>\n",
       "    <tr>\n",
       "      <th>count</th>\n",
       "      <td>284807.000000</td>\n",
       "      <td>2.848070e+05</td>\n",
       "      <td>2.848070e+05</td>\n",
       "      <td>2.848070e+05</td>\n",
       "      <td>2.848070e+05</td>\n",
       "      <td>2.848070e+05</td>\n",
       "      <td>2.848070e+05</td>\n",
       "      <td>2.848070e+05</td>\n",
       "      <td>2.848070e+05</td>\n",
       "      <td>2.848070e+05</td>\n",
       "      <td>...</td>\n",
       "      <td>2.848070e+05</td>\n",
       "      <td>2.848070e+05</td>\n",
       "      <td>2.848070e+05</td>\n",
       "      <td>2.848070e+05</td>\n",
       "      <td>2.848070e+05</td>\n",
       "      <td>2.848070e+05</td>\n",
       "      <td>2.848070e+05</td>\n",
       "      <td>2.848070e+05</td>\n",
       "      <td>284807.000000</td>\n",
       "      <td>284807.000000</td>\n",
       "    </tr>\n",
       "    <tr>\n",
       "      <th>mean</th>\n",
       "      <td>94813.859575</td>\n",
       "      <td>3.919560e-15</td>\n",
       "      <td>5.688174e-16</td>\n",
       "      <td>-8.769071e-15</td>\n",
       "      <td>2.782312e-15</td>\n",
       "      <td>-1.552563e-15</td>\n",
       "      <td>2.010663e-15</td>\n",
       "      <td>-1.694249e-15</td>\n",
       "      <td>-1.927028e-16</td>\n",
       "      <td>-3.137024e-15</td>\n",
       "      <td>...</td>\n",
       "      <td>1.537294e-16</td>\n",
       "      <td>7.959909e-16</td>\n",
       "      <td>5.367590e-16</td>\n",
       "      <td>4.458112e-15</td>\n",
       "      <td>1.453003e-15</td>\n",
       "      <td>1.699104e-15</td>\n",
       "      <td>-3.660161e-16</td>\n",
       "      <td>-1.206049e-16</td>\n",
       "      <td>88.349619</td>\n",
       "      <td>0.001727</td>\n",
       "    </tr>\n",
       "    <tr>\n",
       "      <th>std</th>\n",
       "      <td>47488.145955</td>\n",
       "      <td>1.958696e+00</td>\n",
       "      <td>1.651309e+00</td>\n",
       "      <td>1.516255e+00</td>\n",
       "      <td>1.415869e+00</td>\n",
       "      <td>1.380247e+00</td>\n",
       "      <td>1.332271e+00</td>\n",
       "      <td>1.237094e+00</td>\n",
       "      <td>1.194353e+00</td>\n",
       "      <td>1.098632e+00</td>\n",
       "      <td>...</td>\n",
       "      <td>7.345240e-01</td>\n",
       "      <td>7.257016e-01</td>\n",
       "      <td>6.244603e-01</td>\n",
       "      <td>6.056471e-01</td>\n",
       "      <td>5.212781e-01</td>\n",
       "      <td>4.822270e-01</td>\n",
       "      <td>4.036325e-01</td>\n",
       "      <td>3.300833e-01</td>\n",
       "      <td>250.120109</td>\n",
       "      <td>0.041527</td>\n",
       "    </tr>\n",
       "    <tr>\n",
       "      <th>min</th>\n",
       "      <td>0.000000</td>\n",
       "      <td>-5.640751e+01</td>\n",
       "      <td>-7.271573e+01</td>\n",
       "      <td>-4.832559e+01</td>\n",
       "      <td>-5.683171e+00</td>\n",
       "      <td>-1.137433e+02</td>\n",
       "      <td>-2.616051e+01</td>\n",
       "      <td>-4.355724e+01</td>\n",
       "      <td>-7.321672e+01</td>\n",
       "      <td>-1.343407e+01</td>\n",
       "      <td>...</td>\n",
       "      <td>-3.483038e+01</td>\n",
       "      <td>-1.093314e+01</td>\n",
       "      <td>-4.480774e+01</td>\n",
       "      <td>-2.836627e+00</td>\n",
       "      <td>-1.029540e+01</td>\n",
       "      <td>-2.604551e+00</td>\n",
       "      <td>-2.256568e+01</td>\n",
       "      <td>-1.543008e+01</td>\n",
       "      <td>0.000000</td>\n",
       "      <td>0.000000</td>\n",
       "    </tr>\n",
       "    <tr>\n",
       "      <th>25%</th>\n",
       "      <td>54201.500000</td>\n",
       "      <td>-9.203734e-01</td>\n",
       "      <td>-5.985499e-01</td>\n",
       "      <td>-8.903648e-01</td>\n",
       "      <td>-8.486401e-01</td>\n",
       "      <td>-6.915971e-01</td>\n",
       "      <td>-7.682956e-01</td>\n",
       "      <td>-5.540759e-01</td>\n",
       "      <td>-2.086297e-01</td>\n",
       "      <td>-6.430976e-01</td>\n",
       "      <td>...</td>\n",
       "      <td>-2.283949e-01</td>\n",
       "      <td>-5.423504e-01</td>\n",
       "      <td>-1.618463e-01</td>\n",
       "      <td>-3.545861e-01</td>\n",
       "      <td>-3.171451e-01</td>\n",
       "      <td>-3.269839e-01</td>\n",
       "      <td>-7.083953e-02</td>\n",
       "      <td>-5.295979e-02</td>\n",
       "      <td>5.600000</td>\n",
       "      <td>0.000000</td>\n",
       "    </tr>\n",
       "    <tr>\n",
       "      <th>50%</th>\n",
       "      <td>84692.000000</td>\n",
       "      <td>1.810880e-02</td>\n",
       "      <td>6.548556e-02</td>\n",
       "      <td>1.798463e-01</td>\n",
       "      <td>-1.984653e-02</td>\n",
       "      <td>-5.433583e-02</td>\n",
       "      <td>-2.741871e-01</td>\n",
       "      <td>4.010308e-02</td>\n",
       "      <td>2.235804e-02</td>\n",
       "      <td>-5.142873e-02</td>\n",
       "      <td>...</td>\n",
       "      <td>-2.945017e-02</td>\n",
       "      <td>6.781943e-03</td>\n",
       "      <td>-1.119293e-02</td>\n",
       "      <td>4.097606e-02</td>\n",
       "      <td>1.659350e-02</td>\n",
       "      <td>-5.213911e-02</td>\n",
       "      <td>1.342146e-03</td>\n",
       "      <td>1.124383e-02</td>\n",
       "      <td>22.000000</td>\n",
       "      <td>0.000000</td>\n",
       "    </tr>\n",
       "    <tr>\n",
       "      <th>75%</th>\n",
       "      <td>139320.500000</td>\n",
       "      <td>1.315642e+00</td>\n",
       "      <td>8.037239e-01</td>\n",
       "      <td>1.027196e+00</td>\n",
       "      <td>7.433413e-01</td>\n",
       "      <td>6.119264e-01</td>\n",
       "      <td>3.985649e-01</td>\n",
       "      <td>5.704361e-01</td>\n",
       "      <td>3.273459e-01</td>\n",
       "      <td>5.971390e-01</td>\n",
       "      <td>...</td>\n",
       "      <td>1.863772e-01</td>\n",
       "      <td>5.285536e-01</td>\n",
       "      <td>1.476421e-01</td>\n",
       "      <td>4.395266e-01</td>\n",
       "      <td>3.507156e-01</td>\n",
       "      <td>2.409522e-01</td>\n",
       "      <td>9.104512e-02</td>\n",
       "      <td>7.827995e-02</td>\n",
       "      <td>77.165000</td>\n",
       "      <td>0.000000</td>\n",
       "    </tr>\n",
       "    <tr>\n",
       "      <th>max</th>\n",
       "      <td>172792.000000</td>\n",
       "      <td>2.454930e+00</td>\n",
       "      <td>2.205773e+01</td>\n",
       "      <td>9.382558e+00</td>\n",
       "      <td>1.687534e+01</td>\n",
       "      <td>3.480167e+01</td>\n",
       "      <td>7.330163e+01</td>\n",
       "      <td>1.205895e+02</td>\n",
       "      <td>2.000721e+01</td>\n",
       "      <td>1.559499e+01</td>\n",
       "      <td>...</td>\n",
       "      <td>2.720284e+01</td>\n",
       "      <td>1.050309e+01</td>\n",
       "      <td>2.252841e+01</td>\n",
       "      <td>4.584549e+00</td>\n",
       "      <td>7.519589e+00</td>\n",
       "      <td>3.517346e+00</td>\n",
       "      <td>3.161220e+01</td>\n",
       "      <td>3.384781e+01</td>\n",
       "      <td>25691.160000</td>\n",
       "      <td>1.000000</td>\n",
       "    </tr>\n",
       "  </tbody>\n",
       "</table>\n",
       "<p>8 rows × 31 columns</p>\n",
       "</div>"
      ],
      "text/plain": [
       "                Time            V1            V2            V3            V4  \\\n",
       "count  284807.000000  2.848070e+05  2.848070e+05  2.848070e+05  2.848070e+05   \n",
       "mean    94813.859575  3.919560e-15  5.688174e-16 -8.769071e-15  2.782312e-15   \n",
       "std     47488.145955  1.958696e+00  1.651309e+00  1.516255e+00  1.415869e+00   \n",
       "min         0.000000 -5.640751e+01 -7.271573e+01 -4.832559e+01 -5.683171e+00   \n",
       "25%     54201.500000 -9.203734e-01 -5.985499e-01 -8.903648e-01 -8.486401e-01   \n",
       "50%     84692.000000  1.810880e-02  6.548556e-02  1.798463e-01 -1.984653e-02   \n",
       "75%    139320.500000  1.315642e+00  8.037239e-01  1.027196e+00  7.433413e-01   \n",
       "max    172792.000000  2.454930e+00  2.205773e+01  9.382558e+00  1.687534e+01   \n",
       "\n",
       "                 V5            V6            V7            V8            V9  \\\n",
       "count  2.848070e+05  2.848070e+05  2.848070e+05  2.848070e+05  2.848070e+05   \n",
       "mean  -1.552563e-15  2.010663e-15 -1.694249e-15 -1.927028e-16 -3.137024e-15   \n",
       "std    1.380247e+00  1.332271e+00  1.237094e+00  1.194353e+00  1.098632e+00   \n",
       "min   -1.137433e+02 -2.616051e+01 -4.355724e+01 -7.321672e+01 -1.343407e+01   \n",
       "25%   -6.915971e-01 -7.682956e-01 -5.540759e-01 -2.086297e-01 -6.430976e-01   \n",
       "50%   -5.433583e-02 -2.741871e-01  4.010308e-02  2.235804e-02 -5.142873e-02   \n",
       "75%    6.119264e-01  3.985649e-01  5.704361e-01  3.273459e-01  5.971390e-01   \n",
       "max    3.480167e+01  7.330163e+01  1.205895e+02  2.000721e+01  1.559499e+01   \n",
       "\n",
       "       ...           V21           V22           V23           V24  \\\n",
       "count  ...  2.848070e+05  2.848070e+05  2.848070e+05  2.848070e+05   \n",
       "mean   ...  1.537294e-16  7.959909e-16  5.367590e-16  4.458112e-15   \n",
       "std    ...  7.345240e-01  7.257016e-01  6.244603e-01  6.056471e-01   \n",
       "min    ... -3.483038e+01 -1.093314e+01 -4.480774e+01 -2.836627e+00   \n",
       "25%    ... -2.283949e-01 -5.423504e-01 -1.618463e-01 -3.545861e-01   \n",
       "50%    ... -2.945017e-02  6.781943e-03 -1.119293e-02  4.097606e-02   \n",
       "75%    ...  1.863772e-01  5.285536e-01  1.476421e-01  4.395266e-01   \n",
       "max    ...  2.720284e+01  1.050309e+01  2.252841e+01  4.584549e+00   \n",
       "\n",
       "                V25           V26           V27           V28         Amount  \\\n",
       "count  2.848070e+05  2.848070e+05  2.848070e+05  2.848070e+05  284807.000000   \n",
       "mean   1.453003e-15  1.699104e-15 -3.660161e-16 -1.206049e-16      88.349619   \n",
       "std    5.212781e-01  4.822270e-01  4.036325e-01  3.300833e-01     250.120109   \n",
       "min   -1.029540e+01 -2.604551e+00 -2.256568e+01 -1.543008e+01       0.000000   \n",
       "25%   -3.171451e-01 -3.269839e-01 -7.083953e-02 -5.295979e-02       5.600000   \n",
       "50%    1.659350e-02 -5.213911e-02  1.342146e-03  1.124383e-02      22.000000   \n",
       "75%    3.507156e-01  2.409522e-01  9.104512e-02  7.827995e-02      77.165000   \n",
       "max    7.519589e+00  3.517346e+00  3.161220e+01  3.384781e+01   25691.160000   \n",
       "\n",
       "               Class  \n",
       "count  284807.000000  \n",
       "mean        0.001727  \n",
       "std         0.041527  \n",
       "min         0.000000  \n",
       "25%         0.000000  \n",
       "50%         0.000000  \n",
       "75%         0.000000  \n",
       "max         1.000000  \n",
       "\n",
       "[8 rows x 31 columns]"
      ]
     },
     "execution_count": 1,
     "metadata": {},
     "output_type": "execute_result"
    }
   ],
   "source": [
    "import numpy as np\n",
    "import pandas as pd\n",
    "import matplotlib.pyplot as plt\n",
    "import seaborn as sb\n",
    "\n",
    "#in Kaggle, File -> Add or upload data -> search for credit card\n",
    "#note about the folder: ../input/creditcard\n",
    "#change the folder if you have data in a different folder\n",
    "data = pd.read_csv(\"creditcard.csv\")\n",
    "print(data.shape)\n",
    "#data.head()\n",
    "data.describe()"
   ]
  },
  {
   "cell_type": "code",
   "execution_count": 2,
   "metadata": {
    "_cell_guid": "a4ab5586-fc8a-4977-ae79-4b3348220710",
    "_uuid": "d2a4adf6-82b0-4f17-804a-97e24fc3797f",
    "execution": {
     "iopub.execute_input": "2022-02-21T20:53:32.861512Z",
     "iopub.status.busy": "2022-02-21T20:53:32.861120Z",
     "iopub.status.idle": "2022-02-21T20:53:32.882886Z",
     "shell.execute_reply": "2022-02-21T20:53:32.882126Z",
     "shell.execute_reply.started": "2022-02-21T20:53:32.861454Z"
    }
   },
   "outputs": [],
   "source": [
    "#check if there are missing data\n",
    "data.isnull().any().any()\n",
    "\n",
    "#change 'Class' dtype to \"bool\"\n",
    "data['Class'] = data['Class'].astype('bool')"
   ]
  },
  {
   "cell_type": "code",
   "execution_count": 3,
   "metadata": {
    "_cell_guid": "34d9a62e-9419-4991-82a5-06294371d04d",
    "_uuid": "caf8e04a-c2a9-473c-aee6-dd88b51c0ca0",
    "execution": {
     "iopub.execute_input": "2022-02-21T20:53:35.644504Z",
     "iopub.status.busy": "2022-02-21T20:53:35.644164Z",
     "iopub.status.idle": "2022-02-21T20:53:35.664587Z",
     "shell.execute_reply": "2022-02-21T20:53:35.663759Z",
     "shell.execute_reply.started": "2022-02-21T20:53:35.644455Z"
    }
   },
   "outputs": [
    {
     "name": "stdout",
     "output_type": "stream",
     "text": [
      "False    284315\n",
      "True        492\n",
      "Name: Class, dtype: int64\n"
     ]
    }
   ],
   "source": [
    "class_zero = data.Class.value_counts().values[0]\n",
    "class_one = data.Class.value_counts().values[1]\n",
    "print(data[\"Class\"].value_counts())"
   ]
  },
  {
   "cell_type": "code",
   "execution_count": 4,
   "metadata": {
    "_cell_guid": "669bb12b-813e-4733-85fb-694b7830973f",
    "_uuid": "a2780265-20eb-4b1a-901d-5410213a3da3",
    "execution": {
     "iopub.execute_input": "2022-02-21T20:53:37.839768Z",
     "iopub.status.busy": "2022-02-21T20:53:37.839446Z",
     "iopub.status.idle": "2022-02-21T20:53:37.999446Z",
     "shell.execute_reply": "2022-02-21T20:53:37.998380Z",
     "shell.execute_reply.started": "2022-02-21T20:53:37.839728Z"
    }
   },
   "outputs": [
    {
     "data": {
      "text/plain": [
       "Text(0.5, 1.0, 'Class distribution')"
      ]
     },
     "execution_count": 4,
     "metadata": {},
     "output_type": "execute_result"
    },
    {
     "data": {
      "image/png": "[encoded data removed]",
      "text/plain": [
       "<Figure size 432x288 with 1 Axes>"
      ]
     },
     "metadata": {
      "needs_background": "light"
     },
     "output_type": "display_data"
    }
   ],
   "source": [
    "sb.barplot(x=data.Class.value_counts().index.values, y=data.Class.value_counts().values)\n",
    "plt.title(\"Class distribution\")"
   ]
  },
  {
   "cell_type": "code",
   "execution_count": 5,
   "metadata": {
    "_cell_guid": "2e3cbf11-8402-4f1c-8262-ae1db373fd6d",
    "_uuid": "83f53f3d-d692-417c-94a3-b6db485711e9",
    "execution": {
     "iopub.execute_input": "2022-02-21T20:53:39.915789Z",
     "iopub.status.busy": "2022-02-21T20:53:39.915429Z",
     "iopub.status.idle": "2022-02-21T20:53:40.228427Z",
     "shell.execute_reply": "2022-02-21T20:53:40.227130Z",
     "shell.execute_reply.started": "2022-02-21T20:53:39.915726Z"
    }
   },
   "outputs": [
    {
     "data": {
      "text/plain": [
       "count    2.848070e+05\n",
       "mean     3.202236e-16\n",
       "std      1.000002e+00\n",
       "min     -3.532294e-01\n",
       "25%     -3.308401e-01\n",
       "50%     -2.652715e-01\n",
       "75%     -4.471707e-02\n",
       "max      1.023622e+02\n",
       "Name: AmountNormalized, dtype: float64"
      ]
     },
     "execution_count": 5,
     "metadata": {},
     "output_type": "execute_result"
    }
   ],
   "source": [
    "from sklearn.model_selection import train_test_split\n",
    "from sklearn.preprocessing import StandardScaler\n",
    "from sklearn import metrics\n",
    "data['AmountNormalized'] = StandardScaler().fit_transform(data['Amount'].values.reshape(-1, 1))\n",
    "data['AmountNormalized'].describe()"
   ]
  },
  {
   "cell_type": "markdown",
   "metadata": {
    "_cell_guid": "d325a95c-c51c-4d84-9665-1b28ec69ac02",
    "_uuid": "b2db65a7-677c-4ae0-98f9-1cde256db83b"
   },
   "source": []
  },
  {
   "cell_type": "code",
   "execution_count": 6,
   "metadata": {
    "_cell_guid": "1161036b-44b2-4ee1-885d-611b811a76a6",
    "_uuid": "6b20b204-87b1-4c64-a5e3-2860b1127e2f",
    "execution": {
     "iopub.execute_input": "2022-02-21T20:53:51.698439Z",
     "iopub.status.busy": "2022-02-21T20:53:51.697892Z",
     "iopub.status.idle": "2022-02-21T20:53:51.891632Z",
     "shell.execute_reply": "2022-02-21T20:53:51.890831Z",
     "shell.execute_reply.started": "2022-02-21T20:53:51.698368Z"
    }
   },
   "outputs": [],
   "source": [
    "X = data.iloc[:, data.columns != 'Class'].values\n",
    "y = data.iloc[:, data.columns == 'Class'].values\n",
    "X_train, X_test, y_train, y_test = train_test_split(X, y, test_size = 0.2, random_state = 0)\n"
   ]
  },
  {
   "cell_type": "code",
   "execution_count": 7,
   "metadata": {
    "_cell_guid": "1489632f-0265-4aed-b9bb-4dbed79c9955",
    "_uuid": "16b87e58-dc57-4238-9c87-800dee41058f",
    "execution": {
     "iopub.execute_input": "2022-02-21T20:54:04.983505Z",
     "iopub.status.busy": "2022-02-21T20:54:04.982842Z",
     "iopub.status.idle": "2022-02-21T20:54:04.994681Z",
     "shell.execute_reply": "2022-02-21T20:54:04.993782Z",
     "shell.execute_reply.started": "2022-02-21T20:54:04.983436Z"
    }
   },
   "outputs": [],
   "source": [
    "def plot_precision_recall_curve(y_actual, y_score, model_name):\n",
    "    precision, recall, _ = metrics.precision_recall_curve(y_actual, y_score)\n",
    "    curve_data = pd.DataFrame(columns = range(0, len(precision)))\n",
    "    curve_data.loc['Precision'] = precision\n",
    "    curve_data.loc['Recall'] = recall\n",
    "    #print (curve_data)\n",
    "    plt.step(recall, precision, color='b', alpha=0.1, where='post')\n",
    "    plt.fill_between(recall, precision, step='post', alpha=0.1, color='b')\n",
    "    plt.title('Precision Recall Curve for {} Model'.format(model_name))\n",
    "    plt.xlabel('Recall')\n",
    "    plt.ylabel('Precision')\n",
    "    plt.xlim([0, 1.05])\n",
    "    plt.ylim([0, 1.0])\n",
    "\n",
    "def evaluate_model(y_actual, y_pred, y_score, model_name):\n",
    "    cm = metrics.confusion_matrix(y_actual, y_pred)\n",
    "    print ('Confusion Matrix for {} Model'.format(model_name))\n",
    "    print (cm)\n",
    "    print ('Classification Report for {} Model'.format(model_name))\n",
    "    print (metrics.classification_report(y_actual, y_pred, digits=6))\n",
    "    print ('Area under under ROC curve for {} Model'.format(model_name))\n",
    "    print (metrics.roc_auc_score(y_actual, y_score))\n",
    "    plot_precision_recall_curve(y_actual, y_score, model_name)"
   ]
  },
  {
   "cell_type": "code",
   "execution_count": 8,
   "metadata": {
    "_cell_guid": "2986ed0c-383c-43fc-a6e1-2700ab9e19af",
    "_uuid": "b629d9d3-e3b1-4a9f-ae50-e1679a0536ad",
    "execution": {
     "iopub.execute_input": "2022-02-21T20:54:09.461237Z",
     "iopub.status.busy": "2022-02-21T20:54:09.460561Z",
     "iopub.status.idle": "2022-02-21T20:54:15.484640Z",
     "shell.execute_reply": "2022-02-21T20:54:15.483448Z",
     "shell.execute_reply.started": "2022-02-21T20:54:09.461151Z"
    }
   },
   "outputs": [
    {
     "name": "stdout",
     "output_type": "stream",
     "text": [
      "Confusion Matrix for KNN (n=5) Model\n",
      "[[56861     0]\n",
      " [   96     5]]\n",
      "Classification Report for KNN (n=5) Model\n",
      "              precision    recall  f1-score   support\n",
      "\n",
      "       False   0.998315  1.000000  0.999157     56861\n",
      "        True   1.000000  0.049505  0.094340       101\n",
      "\n",
      "    accuracy                       0.998315     56962\n",
      "   macro avg   0.999157  0.524752  0.546748     56962\n",
      "weighted avg   0.998318  0.998315  0.997552     56962\n",
      "\n",
      "Area under under ROC curve for KNN (n=5) Model\n",
      "0.5777933195088735\n"
     ]
    },
    {
     "data": {
      "image/png": "[encoded data removed]",
      "text/plain": [
       "<Figure size 432x288 with 1 Axes>"
      ]
     },
     "metadata": {
      "needs_background": "light"
     },
     "output_type": "display_data"
    }
   ],
   "source": [
    "#KNN with minkowski metric, k=5 and p=2\n",
    "from sklearn.neighbors import KNeighborsClassifier\n",
    "#train\n",
    "knn = KNeighborsClassifier(n_neighbors=5, metric= 'minkowski', p=2)\n",
    "knn.fit(X_train, y_train.ravel())\n",
    "#test\n",
    "y_pred_knn = knn.predict(X_test)\n",
    "y_prob_knn = knn.predict_proba(X_test)\n",
    "\n",
    "evaluate_model(y_test, y_pred_knn, y_prob_knn[:, [1]], 'KNN (n=5)')"
   ]
  },
  {
   "cell_type": "code",
   "execution_count": 9,
   "metadata": {
    "execution": {
     "iopub.execute_input": "2022-02-21T20:56:24.398939Z",
     "iopub.status.busy": "2022-02-21T20:56:24.398581Z",
     "iopub.status.idle": "2022-02-21T20:56:30.907530Z",
     "shell.execute_reply": "2022-02-21T20:56:30.906386Z",
     "shell.execute_reply.started": "2022-02-21T20:56:24.398897Z"
    }
   },
   "outputs": [
    {
     "name": "stdout",
     "output_type": "stream",
     "text": [
      "Confusion Matrix for KNN (n=10) Model\n",
      "[[56861     0]\n",
      " [  100     1]]\n",
      "Classification Report for KNN (n=10) Model\n",
      "              precision    recall  f1-score   support\n",
      "\n",
      "       False   0.998244  1.000000  0.999121     56861\n",
      "        True   1.000000  0.009901  0.019608       101\n",
      "\n",
      "    accuracy                       0.998244     56962\n",
      "   macro avg   0.999122  0.504950  0.509365     56962\n",
      "weighted avg   0.998248  0.998244  0.997385     56962\n",
      "\n",
      "Area under under ROC curve for KNN (n=10) Model\n",
      "0.580813016142718\n"
     ]
    },
    {
     "data": {
      "image/png": "[encoded data removed]",
      "text/plain": [
       "<Figure size 432x288 with 1 Axes>"
      ]
     },
     "metadata": {
      "needs_background": "light"
     },
     "output_type": "display_data"
    }
   ],
   "source": [
    "#KNN with minkowski metric, k=10 and p=2\n",
    "\n",
    "from sklearn.neighbors import KNeighborsClassifier\n",
    "#train\n",
    "knn = KNeighborsClassifier(n_neighbors=10, metric= 'minkowski', p=2)\n",
    "knn.fit(X_train, y_train.ravel())\n",
    "#test\n",
    "y_pred_knn = knn.predict(X_test)\n",
    "y_prob_knn = knn.predict_proba(X_test)\n",
    "\n",
    "evaluate_model(y_test, y_pred_knn, y_prob_knn[:, [1]], 'KNN (n=10)')"
   ]
  },
  {
   "cell_type": "code",
   "execution_count": 10,
   "metadata": {
    "execution": {
     "iopub.execute_input": "2022-02-21T20:57:06.732666Z",
     "iopub.status.busy": "2022-02-21T20:57:06.732125Z",
     "iopub.status.idle": "2022-02-21T20:57:16.649978Z",
     "shell.execute_reply": "2022-02-21T20:57:16.648742Z",
     "shell.execute_reply.started": "2022-02-21T20:57:06.732612Z"
    }
   },
   "outputs": [
    {
     "name": "stdout",
     "output_type": "stream",
     "text": [
      "Confusion Matrix for KNN (n=50) Model\n",
      "[[56861     0]\n",
      " [  101     0]]\n",
      "Classification Report for KNN (n=50) Model\n",
      "              precision    recall  f1-score   support\n",
      "\n",
      "       False   0.998227  1.000000  0.999113     56861\n",
      "        True   0.000000  0.000000  0.000000       101\n",
      "\n",
      "    accuracy                       0.998227     56962\n",
      "   macro avg   0.499113  0.500000  0.499556     56962\n",
      "weighted avg   0.996457  0.998227  0.997341     56962\n",
      "\n",
      "Area under under ROC curve for KNN (n=50) Model\n",
      "0.6450030741981359"
     ]
    },
    {
     "name": "stderr",
     "output_type": "stream",
     "text": [
      "C:\\Users\\Shardul\\anaconda3\\lib\\site-packages\\sklearn\\metrics\\_classification.py:1272: UndefinedMetricWarning: Precision and F-score are ill-defined and being set to 0.0 in labels with no predicted samples. Use `zero_division` parameter to control this behavior.\n",
      "  _warn_prf(average, modifier, msg_start, len(result))\n"
     ]
    },
    {
     "name": "stdout",
     "output_type": "stream",
     "text": [
      "\n"
     ]
    },
    {
     "data": {
      "image/png": "[encoded data removed]",
      "text/plain": [
       "<Figure size 432x288 with 1 Axes>"
      ]
     },
     "metadata": {
      "needs_background": "light"
     },
     "output_type": "display_data"
    }
   ],
   "source": [
    "#KNN with minkowski metric, k=50 and p=2\n",
    "\n",
    "from sklearn.neighbors import KNeighborsClassifier\n",
    "#train\n",
    "knn = KNeighborsClassifier(n_neighbors=50, metric= 'minkowski', p=2)\n",
    "knn.fit(X_train, y_train.ravel())\n",
    "#test\n",
    "y_pred_knn = knn.predict(X_test)\n",
    "y_prob_knn = knn.predict_proba(X_test)\n",
    "\n",
    "evaluate_model(y_test, y_pred_knn, y_prob_knn[:, [1]], 'KNN (n=50)')"
   ]
  },
  {
   "cell_type": "code",
   "execution_count": 11,
   "metadata": {
    "execution": {
     "iopub.execute_input": "2022-02-21T20:58:16.354681Z",
     "iopub.status.busy": "2022-02-21T20:58:16.354371Z",
     "iopub.status.idle": "2022-02-21T20:58:29.666874Z",
     "shell.execute_reply": "2022-02-21T20:58:29.665645Z",
     "shell.execute_reply.started": "2022-02-21T20:58:16.354644Z"
    }
   },
   "outputs": [
    {
     "name": "stdout",
     "output_type": "stream",
     "text": [
      "Confusion Matrix for KNN (n=100) Model\n",
      "[[56861     0]\n",
      " [  101     0]]\n",
      "Classification Report for KNN (n=100) Model\n",
      "              precision    recall  f1-score   support\n",
      "\n",
      "       False   0.998227  1.000000  0.999113     56861\n",
      "        True   0.000000  0.000000  0.000000       101\n",
      "\n",
      "    accuracy                       0.998227     56962\n",
      "   macro avg   0.499113  0.500000  0.499556     56962\n",
      "weighted avg   0.996457  0.998227  0.997341     56962\n",
      "\n",
      "Area under under ROC curve for KNN (n=100) Model\n",
      "0.6531097808256054\n"
     ]
    },
    {
     "name": "stderr",
     "output_type": "stream",
     "text": [
      "C:\\Users\\Shardul\\anaconda3\\lib\\site-packages\\sklearn\\metrics\\_classification.py:1272: UndefinedMetricWarning: Precision and F-score are ill-defined and being set to 0.0 in labels with no predicted samples. Use `zero_division` parameter to control this behavior.\n",
      "  _warn_prf(average, modifier, msg_start, len(result))\n"
     ]
    },
    {
     "data": {
      "image/png": "[encoded data removed]",
      "text/plain": [
       "<Figure size 432x288 with 1 Axes>"
      ]
     },
     "metadata": {
      "needs_background": "light"
     },
     "output_type": "display_data"
    }
   ],
   "source": [
    "#KNN with minkowski metric, k=100 and p=2\n",
    "from sklearn.neighbors import KNeighborsClassifier\n",
    "#train\n",
    "knn = KNeighborsClassifier(n_neighbors=100, metric= 'minkowski', p=2)\n",
    "knn.fit(X_train, y_train.ravel())\n",
    "#test\n",
    "y_pred_knn = knn.predict(X_test)\n",
    "y_prob_knn = knn.predict_proba(X_test)\n",
    "\n",
    "evaluate_model(y_test, y_pred_knn, y_prob_knn[:, [1]], 'KNN (n=100)')"
   ]
  },
  {
   "cell_type": "code",
   "execution_count": 12,
   "metadata": {
    "execution": {
     "iopub.execute_input": "2022-02-21T20:59:46.785495Z",
     "iopub.status.busy": "2022-02-21T20:59:46.785054Z",
     "iopub.status.idle": "2022-02-21T20:59:52.577514Z",
     "shell.execute_reply": "2022-02-21T20:59:52.576523Z",
     "shell.execute_reply.started": "2022-02-21T20:59:46.785433Z"
    }
   },
   "outputs": [
    {
     "name": "stdout",
     "output_type": "stream",
     "text": [
      "Confusion Matrix for KNN (n=5) Model\n",
      "[[56861     0]\n",
      " [   96     5]]\n",
      "Classification Report for KNN (n=5) Model\n",
      "              precision    recall  f1-score   support\n",
      "\n",
      "       False   0.998315  1.000000  0.999157     56861\n",
      "        True   1.000000  0.049505  0.094340       101\n",
      "\n",
      "    accuracy                       0.998315     56962\n",
      "   macro avg   0.999157  0.524752  0.546748     56962\n",
      "weighted avg   0.998318  0.998315  0.997552     56962\n",
      "\n",
      "Area under under ROC curve for KNN (n=5) Model\n",
      "0.5777933195088735\n"
     ]
    },
    {
     "data": {
      "image/png": "[encoded data removed]",
      "text/plain": [
       "<Figure size 432x288 with 1 Axes>"
      ]
     },
     "metadata": {
      "needs_background": "light"
     },
     "output_type": "display_data"
    }
   ],
   "source": [
    "# KNN with k=5 and metric='euclidean'\n",
    "from sklearn.neighbors import KNeighborsClassifier\n",
    "#train\n",
    "knn = KNeighborsClassifier(n_neighbors=5, metric= 'euclidean')\n",
    "knn.fit(X_train, y_train.ravel())\n",
    "#test\n",
    "y_pred_knn = knn.predict(X_test)\n",
    "y_prob_knn = knn.predict_proba(X_test)\n",
    "\n",
    "evaluate_model(y_test, y_pred_knn, y_prob_knn[:, [1]], 'KNN (n=5)')"
   ]
  },
  {
   "cell_type": "code",
   "execution_count": 13,
   "metadata": {
    "execution": {
     "iopub.execute_input": "2022-02-21T21:00:10.673051Z",
     "iopub.status.busy": "2022-02-21T21:00:10.672735Z",
     "iopub.status.idle": "2022-02-21T21:00:17.051467Z",
     "shell.execute_reply": "2022-02-21T21:00:17.050334Z",
     "shell.execute_reply.started": "2022-02-21T21:00:10.673010Z"
    }
   },
   "outputs": [
    {
     "name": "stdout",
     "output_type": "stream",
     "text": [
      "Confusion Matrix for KNN (n=10) Model\n",
      "[[56861     0]\n",
      " [  100     1]]\n",
      "Classification Report for KNN (n=10) Model\n",
      "              precision    recall  f1-score   support\n",
      "\n",
      "       False   0.998244  1.000000  0.999121     56861\n",
      "        True   1.000000  0.009901  0.019608       101\n",
      "\n",
      "    accuracy                       0.998244     56962\n",
      "   macro avg   0.999122  0.504950  0.509365     56962\n",
      "weighted avg   0.998248  0.998244  0.997385     56962\n",
      "\n",
      "Area under under ROC curve for KNN (n=10) Model\n",
      "0.580813016142718\n"
     ]
    },
    {
     "data": {
      "image/png": "[encoded data removed]",
      "text/plain": [
       "<Figure size 432x288 with 1 Axes>"
      ]
     },
     "metadata": {
      "needs_background": "light"
     },
     "output_type": "display_data"
    }
   ],
   "source": [
    "# KNN with k=10 and metric='euclidean'\n",
    "from sklearn.neighbors import KNeighborsClassifier\n",
    "#train\n",
    "knn = KNeighborsClassifier(n_neighbors=10, metric= 'euclidean')\n",
    "knn.fit(X_train, y_train.ravel())\n",
    "#test\n",
    "y_pred_knn = knn.predict(X_test)\n",
    "y_prob_knn = knn.predict_proba(X_test)\n",
    "\n",
    "evaluate_model(y_test, y_pred_knn, y_prob_knn[:, [1]], 'KNN (n=10)')"
   ]
  },
  {
   "cell_type": "code",
   "execution_count": 14,
   "metadata": {
    "execution": {
     "iopub.execute_input": "2022-02-21T21:00:39.006389Z",
     "iopub.status.busy": "2022-02-21T21:00:39.006044Z",
     "iopub.status.idle": "2022-02-21T21:00:49.078070Z",
     "shell.execute_reply": "2022-02-21T21:00:49.076375Z",
     "shell.execute_reply.started": "2022-02-21T21:00:39.006346Z"
    }
   },
   "outputs": [
    {
     "name": "stdout",
     "output_type": "stream",
     "text": [
      "Confusion Matrix for KNN (n=50) Model\n",
      "[[56861     0]\n",
      " [  101     0]]\n",
      "Classification Report for KNN (n=50) Model\n",
      "              precision    recall  f1-score   support\n",
      "\n",
      "       False   0.998227  1.000000  0.999113     56861\n",
      "        True   0.000000  0.000000  0.000000       101\n",
      "\n",
      "    accuracy                       0.998227     56962\n",
      "   macro avg   0.499113  0.500000  0.499556     56962\n",
      "weighted avg   0.996457  0.998227  0.997341     56962\n",
      "\n",
      "Area under under ROC curve for KNN (n=50) Model\n",
      "0.6450030741981359\n"
     ]
    },
    {
     "name": "stderr",
     "output_type": "stream",
     "text": [
      "C:\\Users\\Shardul\\anaconda3\\lib\\site-packages\\sklearn\\metrics\\_classification.py:1272: UndefinedMetricWarning: Precision and F-score are ill-defined and being set to 0.0 in labels with no predicted samples. Use `zero_division` parameter to control this behavior.\n",
      "  _warn_prf(average, modifier, msg_start, len(result))\n"
     ]
    },
    {
     "data": {
      "image/png": "[encoded data removed]",
      "text/plain": [
       "<Figure size 432x288 with 1 Axes>"
      ]
     },
     "metadata": {
      "needs_background": "light"
     },
     "output_type": "display_data"
    }
   ],
   "source": [
    "# KNN with k=50 and metric='euclidean'\n",
    "from sklearn.neighbors import KNeighborsClassifier\n",
    "#train\n",
    "knn = KNeighborsClassifier(n_neighbors=50, metric= 'euclidean')\n",
    "knn.fit(X_train, y_train.ravel())\n",
    "#test\n",
    "y_pred_knn = knn.predict(X_test)\n",
    "y_prob_knn = knn.predict_proba(X_test)\n",
    "\n",
    "evaluate_model(y_test, y_pred_knn, y_prob_knn[:, [1]], 'KNN (n=50)')"
   ]
  },
  {
   "cell_type": "code",
   "execution_count": 15,
   "metadata": {
    "execution": {
     "iopub.execute_input": "2022-02-21T21:01:08.946613Z",
     "iopub.status.busy": "2022-02-21T21:01:08.946279Z",
     "iopub.status.idle": "2022-02-21T21:01:22.166231Z",
     "shell.execute_reply": "2022-02-21T21:01:22.164795Z",
     "shell.execute_reply.started": "2022-02-21T21:01:08.946563Z"
    }
   },
   "outputs": [
    {
     "name": "stdout",
     "output_type": "stream",
     "text": [
      "Confusion Matrix for KNN (n=100) Model\n",
      "[[56861     0]\n",
      " [  101     0]]\n",
      "Classification Report for KNN (n=100) Model\n",
      "              precision    recall  f1-score   support\n",
      "\n",
      "       False   0.998227  1.000000  0.999113     56861\n",
      "        True   0.000000  0.000000  0.000000       101\n",
      "\n",
      "    accuracy                       0.998227     56962\n",
      "   macro avg   0.499113  0.500000  0.499556     56962\n",
      "weighted avg   0.996457  0.998227  0.997341     56962\n",
      "\n",
      "Area under under ROC curve for KNN (n=100) Model\n",
      "0.6531097808256054\n"
     ]
    },
    {
     "name": "stderr",
     "output_type": "stream",
     "text": [
      "C:\\Users\\Shardul\\anaconda3\\lib\\site-packages\\sklearn\\metrics\\_classification.py:1272: UndefinedMetricWarning: Precision and F-score are ill-defined and being set to 0.0 in labels with no predicted samples. Use `zero_division` parameter to control this behavior.\n",
      "  _warn_prf(average, modifier, msg_start, len(result))\n"
     ]
    },
    {
     "data": {
      "image/png": "[encoded data removed]",
      "text/plain": [
       "<Figure size 432x288 with 1 Axes>"
      ]
     },
     "metadata": {
      "needs_background": "light"
     },
     "output_type": "display_data"
    }
   ],
   "source": [
    "# KNN with k=100 and metric='euclidean'\n",
    "from sklearn.neighbors import KNeighborsClassifier\n",
    "#train\n",
    "knn = KNeighborsClassifier(n_neighbors=100, metric= 'euclidean')\n",
    "knn.fit(X_train, y_train.ravel())\n",
    "#test\n",
    "y_pred_knn = knn.predict(X_test)\n",
    "y_prob_knn = knn.predict_proba(X_test)\n",
    "\n",
    "evaluate_model(y_test, y_pred_knn, y_prob_knn[:, [1]], 'KNN (n=100)')"
   ]
  },
  {
   "cell_type": "code",
   "execution_count": 16,
   "metadata": {
    "execution": {
     "iopub.execute_input": "2022-02-21T21:02:00.738293Z",
     "iopub.status.busy": "2022-02-21T21:02:00.737941Z",
     "iopub.status.idle": "2022-02-21T21:02:08.119274Z",
     "shell.execute_reply": "2022-02-21T21:02:08.118107Z",
     "shell.execute_reply.started": "2022-02-21T21:02:00.738242Z"
    }
   },
   "outputs": [
    {
     "name": "stdout",
     "output_type": "stream",
     "text": [
      "Confusion Matrix for KNN (n=5) Model\n",
      "[[56861     0]\n",
      " [   90    11]]\n",
      "Classification Report for KNN (n=5) Model\n",
      "              precision    recall  f1-score   support\n",
      "\n",
      "       False   0.998420  1.000000  0.999209     56861\n",
      "        True   1.000000  0.108911  0.196429       101\n",
      "\n",
      "    accuracy                       0.998420     56962\n",
      "   macro avg   0.999210  0.554455  0.597819     56962\n",
      "weighted avg   0.998422  0.998420  0.997786     56962\n",
      "\n",
      "Area under under ROC curve for KNN (n=5) Model\n",
      "0.6379445202570591\n"
     ]
    },
    {
     "data": {
      "image/png": "[encoded data removed]",
      "text/plain": [
       "<Figure size 432x288 with 1 Axes>"
      ]
     },
     "metadata": {
      "needs_background": "light"
     },
     "output_type": "display_data"
    }
   ],
   "source": [
    "# KNN with k=5 and metric='manhattan'\n",
    "from sklearn.neighbors import KNeighborsClassifier\n",
    "#train\n",
    "knn = KNeighborsClassifier(n_neighbors=5, metric= 'manhattan')\n",
    "knn.fit(X_train, y_train.ravel())\n",
    "#test\n",
    "y_pred_knn = knn.predict(X_test)\n",
    "y_prob_knn = knn.predict_proba(X_test)\n",
    "\n",
    "evaluate_model(y_test, y_pred_knn, y_prob_knn[:, [1]], 'KNN (n=5)')"
   ]
  },
  {
   "cell_type": "code",
   "execution_count": 17,
   "metadata": {
    "execution": {
     "iopub.execute_input": "2022-02-21T21:02:20.438985Z",
     "iopub.status.busy": "2022-02-21T21:02:20.438667Z",
     "iopub.status.idle": "2022-02-21T21:02:28.598560Z",
     "shell.execute_reply": "2022-02-21T21:02:28.597053Z",
     "shell.execute_reply.started": "2022-02-21T21:02:20.438939Z"
    }
   },
   "outputs": [
    {
     "name": "stdout",
     "output_type": "stream",
     "text": [
      "Confusion Matrix for KNN (n=10) Model\n",
      "[[56861     0]\n",
      " [   93     8]]\n",
      "Classification Report for KNN (n=10) Model\n",
      "              precision    recall  f1-score   support\n",
      "\n",
      "       False   0.998367  1.000000  0.999183     56861\n",
      "        True   1.000000  0.079208  0.146789       101\n",
      "\n",
      "    accuracy                       0.998367     56962\n",
      "   macro avg   0.999184  0.539604  0.572986     56962\n",
      "weighted avg   0.998370  0.998367  0.997671     56962\n",
      "\n",
      "Area under under ROC curve for KNN (n=10) Model\n",
      "0.6470332116133124\n"
     ]
    },
    {
     "data": {
      "image/png": "[encoded data removed]",
      "text/plain": [
       "<Figure size 432x288 with 1 Axes>"
      ]
     },
     "metadata": {
      "needs_background": "light"
     },
     "output_type": "display_data"
    }
   ],
   "source": [
    "# KNN with k=10 and metric='manhattan'\n",
    "from sklearn.neighbors import KNeighborsClassifier\n",
    "#train\n",
    "knn = KNeighborsClassifier(n_neighbors=10, metric= 'manhattan')\n",
    "knn.fit(X_train, y_train.ravel())\n",
    "#test\n",
    "y_pred_knn = knn.predict(X_test)\n",
    "y_prob_knn = knn.predict_proba(X_test)\n",
    "\n",
    "evaluate_model(y_test, y_pred_knn, y_prob_knn[:, [1]], 'KNN (n=10)')"
   ]
  },
  {
   "cell_type": "code",
   "execution_count": 18,
   "metadata": {
    "execution": {
     "iopub.execute_input": "2022-02-21T21:02:46.264412Z",
     "iopub.status.busy": "2022-02-21T21:02:46.264004Z",
     "iopub.status.idle": "2022-02-21T21:02:58.045793Z",
     "shell.execute_reply": "2022-02-21T21:02:58.044711Z",
     "shell.execute_reply.started": "2022-02-21T21:02:46.264351Z"
    }
   },
   "outputs": [
    {
     "name": "stdout",
     "output_type": "stream",
     "text": [
      "Confusion Matrix for KNN (n=50) Model\n",
      "[[56861     0]\n",
      " [  101     0]]\n",
      "Classification Report for KNN (n=50) Model\n",
      "              precision    recall  f1-score   support\n",
      "\n",
      "       False   0.998227  1.000000  0.999113     56861\n",
      "        True   0.000000  0.000000  0.000000       101\n",
      "\n",
      "    accuracy                       0.998227     56962\n",
      "   macro avg   0.499113  0.500000  0.499556     56962\n",
      "weighted avg   0.996457  0.998227  0.997341     56962\n",
      "\n",
      "Area under under ROC curve for KNN (n=50) Model\n",
      "0.6924904243647136\n"
     ]
    },
    {
     "name": "stderr",
     "output_type": "stream",
     "text": [
      "C:\\Users\\Shardul\\anaconda3\\lib\\site-packages\\sklearn\\metrics\\_classification.py:1272: UndefinedMetricWarning: Precision and F-score are ill-defined and being set to 0.0 in labels with no predicted samples. Use `zero_division` parameter to control this behavior.\n",
      "  _warn_prf(average, modifier, msg_start, len(result))\n"
     ]
    },
    {
     "data": {
      "image/png": "[encoded data removed]",
      "text/plain": [
       "<Figure size 432x288 with 1 Axes>"
      ]
     },
     "metadata": {
      "needs_background": "light"
     },
     "output_type": "display_data"
    }
   ],
   "source": [
    "# KNN with k=50 and metric='manhattan'\n",
    "from sklearn.neighbors import KNeighborsClassifier\n",
    "#train\n",
    "knn = KNeighborsClassifier(n_neighbors=50, metric= 'manhattan')\n",
    "knn.fit(X_train, y_train.ravel())\n",
    "#test\n",
    "y_pred_knn = knn.predict(X_test)\n",
    "y_prob_knn = knn.predict_proba(X_test)\n",
    "\n",
    "evaluate_model(y_test, y_pred_knn, y_prob_knn[:, [1]], 'KNN (n=50)')"
   ]
  },
  {
   "cell_type": "code",
   "execution_count": 19,
   "metadata": {
    "execution": {
     "iopub.execute_input": "2022-02-21T21:03:20.213878Z",
     "iopub.status.busy": "2022-02-21T21:03:20.213349Z",
     "iopub.status.idle": "2022-02-21T21:03:35.811575Z",
     "shell.execute_reply": "2022-02-21T21:03:35.810497Z",
     "shell.execute_reply.started": "2022-02-21T21:03:20.213828Z"
    }
   },
   "outputs": [
    {
     "name": "stdout",
     "output_type": "stream",
     "text": [
      "Confusion Matrix for KNN (n=100) Model\n",
      "[[56861     0]\n",
      " [  101     0]]\n",
      "Classification Report for KNN (n=100) Model\n"
     ]
    },
    {
     "name": "stderr",
     "output_type": "stream",
     "text": [
      "C:\\Users\\Shardul\\anaconda3\\lib\\site-packages\\sklearn\\metrics\\_classification.py:1272: UndefinedMetricWarning: Precision and F-score are ill-defined and being set to 0.0 in labels with no predicted samples. Use `zero_division` parameter to control this behavior.\n",
      "  _warn_prf(average, modifier, msg_start, len(result))\n"
     ]
    },
    {
     "name": "stdout",
     "output_type": "stream",
     "text": [
      "              precision    recall  f1-score   support\n",
      "\n",
      "       False   0.998227  1.000000  0.999113     56861\n",
      "        True   0.000000  0.000000  0.000000       101\n",
      "\n",
      "    accuracy                       0.998227     56962\n",
      "   macro avg   0.499113  0.500000  0.499556     56962\n",
      "weighted avg   0.996457  0.998227  0.997341     56962\n",
      "\n",
      "Area under under ROC curve for KNN (n=100) Model\n",
      "0.7287805889679557\n"
     ]
    },
    {
     "data": {
      "image/png": "[encoded data removed]",
      "text/plain": [
       "<Figure size 432x288 with 1 Axes>"
      ]
     },
     "metadata": {
      "needs_background": "light"
     },
     "output_type": "display_data"
    }
   ],
   "source": [
    "# KNN with k=100 and metric='manhattan'\n",
    "from sklearn.neighbors import KNeighborsClassifier\n",
    "#train\n",
    "knn = KNeighborsClassifier(n_neighbors=100, metric= 'manhattan')\n",
    "knn.fit(X_train, y_train.ravel())\n",
    "#test\n",
    "y_pred_knn = knn.predict(X_test)\n",
    "y_prob_knn = knn.predict_proba(X_test)\n",
    "\n",
    "evaluate_model(y_test, y_pred_knn, y_prob_knn[:, [1]], 'KNN (n=100)')"
   ]
  },
  {
   "cell_type": "markdown",
   "metadata": {},
   "source": [
    "# Question 4: Link Analysis and PageRank algorithm implementation"
   ]
  },
  {
   "cell_type": "code",
   "execution_count": 20,
   "metadata": {
    "execution": {
     "iopub.execute_input": "2022-02-21T21:06:46.359368Z",
     "iopub.status.busy": "2022-02-21T21:06:46.358929Z",
     "iopub.status.idle": "2022-02-21T21:06:46.366784Z",
     "shell.execute_reply": "2022-02-21T21:06:46.365423Z",
     "shell.execute_reply.started": "2022-02-21T21:06:46.359291Z"
    }
   },
   "outputs": [],
   "source": [
    "#Pagerank implementation. \n",
    "\n",
    "#use numpy module\n",
    "import numpy as np\n",
    "\n",
    "# Define the function for page rank algorithm\n",
    "def page_rank(transition_matrix):\n",
    "    \n",
    "    # Define the initial rank matrix\n",
    "    rank_matrix = np.ones(6)/6\n",
    "    \n",
    "    # Get the dot product of the given matrix with rank\n",
    "    dot_product = transition_matrix.dot(rank_matrix)\n",
    "    \n",
    "    # Repeat loop until ranks converge\n",
    "    while True:\n",
    "        dot_product = transition_matrix.dot(rank_matrix)\n",
    "        if np.linalg.norm(np.abs(rank_matrix - dot_product)) < 0.01:\n",
    "            break\n",
    "        rank_matrix = dot_product\n",
    "        \n",
    "    return dot_product"
   ]
  },
  {
   "cell_type": "code",
   "execution_count": 21,
   "metadata": {
    "execution": {
     "iopub.execute_input": "2022-02-21T21:10:07.983492Z",
     "iopub.status.busy": "2022-02-21T21:10:07.982877Z",
     "iopub.status.idle": "2022-02-21T21:10:07.991823Z",
     "shell.execute_reply": "2022-02-21T21:10:07.990918Z",
     "shell.execute_reply.started": "2022-02-21T21:10:07.983439Z"
    }
   },
   "outputs": [
    {
     "data": {
      "text/plain": [
       "array([0.12304687, 0.06119792, 0.20898438, 0.22591146, 0.17057292,\n",
       "       0.21028646])"
      ]
     },
     "execution_count": 21,
     "metadata": {},
     "output_type": "execute_result"
    }
   ],
   "source": [
    "# Given transition matrix as per the problem\n",
    "transition_matrix = np.array([[ 0,  0.25,  0,  0,  0,  0.5],\n",
    "       [ 0.5,  0,  0,  0,  0,  0],\n",
    "       [ 0,  0.25,  0,  0,  0.5,  0.5],\n",
    "       [ 0,  0.25,  1.0,  0,  0,  0],\n",
    "       [ 0.5,  0,  0,  0.5,  0,  0],\n",
    "       [ 0,  0.25,  0,  0.5,  0.5,  0]])\n",
    "ranks_of_pages = page_rank(transition_matrix)\n",
    "ranks_of_pages"
   ]
  },
  {
   "cell_type": "markdown",
   "metadata": {},
   "source": [
    "**Page ranks of web pages here after implementing the pagerank algorithm**:\n",
    "\n",
    "**1. D(0.22591146)**\n",
    "\n",
    "**2. F(0.21028646)**\n",
    "\n",
    "**3. C(0.20898438)**\n",
    "\n",
    "**4. E(0.17057292)**\n",
    "\n",
    "**5. A(0.12304687)**\n",
    "\n",
    "**6. B(0.06119792)**"
   ]
  },
  {
   "cell_type": "code",
   "execution_count": 22,
   "metadata": {
    "execution": {
     "iopub.execute_input": "2022-02-21T21:09:33.089367Z",
     "iopub.status.busy": "2022-02-21T21:09:33.088916Z",
     "iopub.status.idle": "2022-02-21T21:09:33.095367Z",
     "shell.execute_reply": "2022-02-21T21:09:33.094488Z",
     "shell.execute_reply.started": "2022-02-21T21:09:33.089284Z"
    }
   },
   "outputs": [],
   "source": [
    "# Defining the function for page rank algorithm with different distribution\n",
    "\n",
    "def page_rank_scaled(transition_matrix):\n",
    "    # Scaled rank matrix initial distribution\n",
    "    rank_matrix = 100 * np.ones(6)/6\n",
    "    \n",
    "    # Get the dot product of the given matrix with rank\n",
    "    dot_product = transition_matrix.dot(rank_matrix)\n",
    "    \n",
    "    # Repeat loop until ranks converge\n",
    "    while True:\n",
    "        dot_product = transition_matrix.dot(rank_matrix)\n",
    "        \n",
    "        if np.linalg.norm(np.abs(rank_matrix - dot_product)) < 0.001:\n",
    "            break\n",
    "        rank_matrix = dot_product\n",
    "    return dot_product"
   ]
  },
  {
   "cell_type": "code",
   "execution_count": 23,
   "metadata": {
    "execution": {
     "iopub.execute_input": "2022-02-21T21:10:22.308880Z",
     "iopub.status.busy": "2022-02-21T21:10:22.308581Z",
     "iopub.status.idle": "2022-02-21T21:10:22.316057Z",
     "shell.execute_reply": "2022-02-21T21:10:22.315147Z",
     "shell.execute_reply.started": "2022-02-21T21:10:22.308834Z"
    }
   },
   "outputs": [
    {
     "data": {
      "text/plain": [
       "array([12.18261859,  6.0914689 , 20.81192096, 22.33527407, 17.25902329,\n",
       "       21.31969419])"
      ]
     },
     "execution_count": 23,
     "metadata": {},
     "output_type": "execute_result"
    }
   ],
   "source": [
    "ranks_of_pages = page_rank_scaled(transition_matrix)\n",
    "ranks_of_pages"
   ]
  },
  {
   "cell_type": "code",
   "execution_count": 25,
   "metadata": {},
   "outputs": [
    {
     "data": {
      "text/plain": [
       "array([ 6.09123373,  3.04578759, 10.40580814, 11.16776397,  8.62960096,\n",
       "       10.65980561])"
      ]
     },
     "execution_count": 25,
     "metadata": {},
     "output_type": "execute_result"
    }
   ],
   "source": [
    "# Defining the function for page rank algorithm with different distribution\n",
    "\n",
    "def page_rank_scaled_1(transition_matrix):\n",
    "    # Scaled rank matrix initial distribution\n",
    "    rank_matrix = 50 * np.ones(6)/6\n",
    "    \n",
    "    # Get the dot product of the given matrix with rank\n",
    "    dot_product = transition_matrix.dot(rank_matrix)\n",
    "    \n",
    "    # Repeat loop until ranks converge\n",
    "    while True:\n",
    "        dot_product = transition_matrix.dot(rank_matrix)\n",
    "        \n",
    "        if np.linalg.norm(np.abs(rank_matrix - dot_product)) < 0.001:\n",
    "            break\n",
    "        rank_matrix = dot_product\n",
    "    return dot_product\n",
    "\n",
    "ranks_of_pages = page_rank_scaled_1(transition_matrix)\n",
    "ranks_of_pages"
   ]
  },
  {
   "cell_type": "markdown",
   "metadata": {},
   "source": [
    "**Conclusion : The rank values for each page get scaled with scaling of\n",
    "rank matrix and changing the initial distribution but the overall ranks remain same with D having highest\n",
    "rank and F, C, E, A, B in the decreasing order.**"
   ]
  },
  {
   "cell_type": "markdown",
   "metadata": {},
   "source": [
    "References:\n",
    "\n",
    "[1] Introduction to Data Mining 2nd Edition By Tan, Steinbach, Kumar,Karpatne\n",
    "\n",
    "[2] https://scikit-learn.org/stable/modules/generated/sklearn.neighbors.NearestNeighbors.html\n",
    "\n",
    "[3] https://towardsdatascience.com/understanding-auc-roc-curve-68b2303cc9c5\n",
    "\n",
    "[4] https://notebook.community/hktxt/MachineLearning/PageRank\n",
    "\n",
    "[5] https://developpaper.com/numerical-analysis-power-iteration-and-pagerank-algorithm/"
   ]
  },
  {
   "cell_type": "code",
   "execution_count": null,
   "metadata": {},
   "outputs": [],
   "source": []
  }
 ],
 "metadata": {
  "kernelspec": {
   "display_name": "Python 3",
   "language": "python",
   "name": "python3"
  },
  "language_info": {
   "codemirror_mode": {
    "name": "ipython",
    "version": 3
   },
   "file_extension": ".py",
   "mimetype": "text/x-python",
   "name": "python",
   "nbconvert_exporter": "python",
   "pygments_lexer": "ipython3",
   "version": "3.7.6"
  }
 },
 "nbformat": 4,
 "nbformat_minor": 4
}
