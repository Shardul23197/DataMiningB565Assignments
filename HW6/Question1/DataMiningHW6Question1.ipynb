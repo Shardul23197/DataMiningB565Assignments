{
 "cells": [
  {
   "cell_type": "markdown",
   "metadata": {},
   "source": [
    "# Data Mining HW6\n",
    "## Shardul Dabhane(sdabhane) B-565\n",
    "### April 22nd, 2022"
   ]
  },
  {
   "cell_type": "markdown",
   "metadata": {},
   "source": [
    "1. (40 points) Decision trees and ensemble approaches.\n",
    "\n",
    "• Use sklearn’s breast cancer data set (from sklearn.datasets import load breast cancer)\n",
    "\n",
    "• Try the bagging and adaboost approaches using the decision tree as the base\n",
    "predictor. Experiment different parameters (e.g., number of base predictors).\n",
    "You may use BaggingClassifier and AdaBoostClassifier in sklearn.ensemble\n",
    "for this problem.\n",
    "\n",
    "• Document what you have tried and report your results"
   ]
  },
  {
   "cell_type": "code",
   "execution_count": 1,
   "metadata": {},
   "outputs": [],
   "source": [
    "#Import required modules\n",
    "import pandas as pd\n",
    "import numpy as np\n",
    "from sklearn.tree import DecisionTreeClassifier\n",
    "from sklearn.datasets import load_breast_cancer\n",
    "from sklearn.ensemble import BaggingClassifier\n",
    "from sklearn.ensemble import AdaBoostClassifier\n",
    "from sklearn.model_selection import GridSearchCV\n",
    "from sklearn.model_selection import RepeatedKFold\n",
    "from sklearn.model_selection import train_test_split"
   ]
  },
  {
   "cell_type": "code",
   "execution_count": 2,
   "metadata": {},
   "outputs": [
    {
     "data": {
      "text/html": [
       "<div>\n",
       "<style scoped>\n",
       "    .dataframe tbody tr th:only-of-type {\n",
       "        vertical-align: middle;\n",
       "    }\n",
       "\n",
       "    .dataframe tbody tr th {\n",
       "        vertical-align: top;\n",
       "    }\n",
       "\n",
       "    .dataframe thead th {\n",
       "        text-align: right;\n",
       "    }\n",
       "</style>\n",
       "<table border=\"1\" class=\"dataframe\">\n",
       "  <thead>\n",
       "    <tr style=\"text-align: right;\">\n",
       "      <th></th>\n",
       "      <th>mean radius</th>\n",
       "      <th>mean texture</th>\n",
       "      <th>mean perimeter</th>\n",
       "      <th>mean area</th>\n",
       "      <th>mean smoothness</th>\n",
       "      <th>mean compactness</th>\n",
       "      <th>mean concavity</th>\n",
       "      <th>mean concave points</th>\n",
       "      <th>mean symmetry</th>\n",
       "      <th>mean fractal dimension</th>\n",
       "      <th>...</th>\n",
       "      <th>worst texture</th>\n",
       "      <th>worst perimeter</th>\n",
       "      <th>worst area</th>\n",
       "      <th>worst smoothness</th>\n",
       "      <th>worst compactness</th>\n",
       "      <th>worst concavity</th>\n",
       "      <th>worst concave points</th>\n",
       "      <th>worst symmetry</th>\n",
       "      <th>worst fractal dimension</th>\n",
       "      <th>target</th>\n",
       "    </tr>\n",
       "  </thead>\n",
       "  <tbody>\n",
       "    <tr>\n",
       "      <th>0</th>\n",
       "      <td>17.99</td>\n",
       "      <td>10.38</td>\n",
       "      <td>122.80</td>\n",
       "      <td>1001.0</td>\n",
       "      <td>0.11840</td>\n",
       "      <td>0.27760</td>\n",
       "      <td>0.3001</td>\n",
       "      <td>0.14710</td>\n",
       "      <td>0.2419</td>\n",
       "      <td>0.07871</td>\n",
       "      <td>...</td>\n",
       "      <td>17.33</td>\n",
       "      <td>184.60</td>\n",
       "      <td>2019.0</td>\n",
       "      <td>0.1622</td>\n",
       "      <td>0.6656</td>\n",
       "      <td>0.7119</td>\n",
       "      <td>0.2654</td>\n",
       "      <td>0.4601</td>\n",
       "      <td>0.11890</td>\n",
       "      <td>0</td>\n",
       "    </tr>\n",
       "    <tr>\n",
       "      <th>1</th>\n",
       "      <td>20.57</td>\n",
       "      <td>17.77</td>\n",
       "      <td>132.90</td>\n",
       "      <td>1326.0</td>\n",
       "      <td>0.08474</td>\n",
       "      <td>0.07864</td>\n",
       "      <td>0.0869</td>\n",
       "      <td>0.07017</td>\n",
       "      <td>0.1812</td>\n",
       "      <td>0.05667</td>\n",
       "      <td>...</td>\n",
       "      <td>23.41</td>\n",
       "      <td>158.80</td>\n",
       "      <td>1956.0</td>\n",
       "      <td>0.1238</td>\n",
       "      <td>0.1866</td>\n",
       "      <td>0.2416</td>\n",
       "      <td>0.1860</td>\n",
       "      <td>0.2750</td>\n",
       "      <td>0.08902</td>\n",
       "      <td>0</td>\n",
       "    </tr>\n",
       "    <tr>\n",
       "      <th>2</th>\n",
       "      <td>19.69</td>\n",
       "      <td>21.25</td>\n",
       "      <td>130.00</td>\n",
       "      <td>1203.0</td>\n",
       "      <td>0.10960</td>\n",
       "      <td>0.15990</td>\n",
       "      <td>0.1974</td>\n",
       "      <td>0.12790</td>\n",
       "      <td>0.2069</td>\n",
       "      <td>0.05999</td>\n",
       "      <td>...</td>\n",
       "      <td>25.53</td>\n",
       "      <td>152.50</td>\n",
       "      <td>1709.0</td>\n",
       "      <td>0.1444</td>\n",
       "      <td>0.4245</td>\n",
       "      <td>0.4504</td>\n",
       "      <td>0.2430</td>\n",
       "      <td>0.3613</td>\n",
       "      <td>0.08758</td>\n",
       "      <td>0</td>\n",
       "    </tr>\n",
       "    <tr>\n",
       "      <th>3</th>\n",
       "      <td>11.42</td>\n",
       "      <td>20.38</td>\n",
       "      <td>77.58</td>\n",
       "      <td>386.1</td>\n",
       "      <td>0.14250</td>\n",
       "      <td>0.28390</td>\n",
       "      <td>0.2414</td>\n",
       "      <td>0.10520</td>\n",
       "      <td>0.2597</td>\n",
       "      <td>0.09744</td>\n",
       "      <td>...</td>\n",
       "      <td>26.50</td>\n",
       "      <td>98.87</td>\n",
       "      <td>567.7</td>\n",
       "      <td>0.2098</td>\n",
       "      <td>0.8663</td>\n",
       "      <td>0.6869</td>\n",
       "      <td>0.2575</td>\n",
       "      <td>0.6638</td>\n",
       "      <td>0.17300</td>\n",
       "      <td>0</td>\n",
       "    </tr>\n",
       "    <tr>\n",
       "      <th>4</th>\n",
       "      <td>20.29</td>\n",
       "      <td>14.34</td>\n",
       "      <td>135.10</td>\n",
       "      <td>1297.0</td>\n",
       "      <td>0.10030</td>\n",
       "      <td>0.13280</td>\n",
       "      <td>0.1980</td>\n",
       "      <td>0.10430</td>\n",
       "      <td>0.1809</td>\n",
       "      <td>0.05883</td>\n",
       "      <td>...</td>\n",
       "      <td>16.67</td>\n",
       "      <td>152.20</td>\n",
       "      <td>1575.0</td>\n",
       "      <td>0.1374</td>\n",
       "      <td>0.2050</td>\n",
       "      <td>0.4000</td>\n",
       "      <td>0.1625</td>\n",
       "      <td>0.2364</td>\n",
       "      <td>0.07678</td>\n",
       "      <td>0</td>\n",
       "    </tr>\n",
       "  </tbody>\n",
       "</table>\n",
       "<p>5 rows × 31 columns</p>\n",
       "</div>"
      ],
      "text/plain": [
       "   mean radius  mean texture  mean perimeter  mean area  mean smoothness  \\\n",
       "0        17.99         10.38          122.80     1001.0          0.11840   \n",
       "1        20.57         17.77          132.90     1326.0          0.08474   \n",
       "2        19.69         21.25          130.00     1203.0          0.10960   \n",
       "3        11.42         20.38           77.58      386.1          0.14250   \n",
       "4        20.29         14.34          135.10     1297.0          0.10030   \n",
       "\n",
       "   mean compactness  mean concavity  mean concave points  mean symmetry  \\\n",
       "0           0.27760          0.3001              0.14710         0.2419   \n",
       "1           0.07864          0.0869              0.07017         0.1812   \n",
       "2           0.15990          0.1974              0.12790         0.2069   \n",
       "3           0.28390          0.2414              0.10520         0.2597   \n",
       "4           0.13280          0.1980              0.10430         0.1809   \n",
       "\n",
       "   mean fractal dimension  ...  worst texture  worst perimeter  worst area  \\\n",
       "0                 0.07871  ...          17.33           184.60      2019.0   \n",
       "1                 0.05667  ...          23.41           158.80      1956.0   \n",
       "2                 0.05999  ...          25.53           152.50      1709.0   \n",
       "3                 0.09744  ...          26.50            98.87       567.7   \n",
       "4                 0.05883  ...          16.67           152.20      1575.0   \n",
       "\n",
       "   worst smoothness  worst compactness  worst concavity  worst concave points  \\\n",
       "0            0.1622             0.6656           0.7119                0.2654   \n",
       "1            0.1238             0.1866           0.2416                0.1860   \n",
       "2            0.1444             0.4245           0.4504                0.2430   \n",
       "3            0.2098             0.8663           0.6869                0.2575   \n",
       "4            0.1374             0.2050           0.4000                0.1625   \n",
       "\n",
       "   worst symmetry  worst fractal dimension  target  \n",
       "0          0.4601                  0.11890       0  \n",
       "1          0.2750                  0.08902       0  \n",
       "2          0.3613                  0.08758       0  \n",
       "3          0.6638                  0.17300       0  \n",
       "4          0.2364                  0.07678       0  \n",
       "\n",
       "[5 rows x 31 columns]"
      ]
     },
     "execution_count": 2,
     "metadata": {},
     "output_type": "execute_result"
    }
   ],
   "source": [
    "#We will now load the breast cancer dataset and convert it into a dataframe to perform operations\n",
    "breast_cancer_data = load_breast_cancer()\n",
    "df = pd.DataFrame(breast_cancer_data.data, columns=breast_cancer_data.feature_names)\n",
    "df['target'] = pd.Series(breast_cancer_data.target)\n",
    "df.head()\n"
   ]
  },
  {
   "cell_type": "code",
   "execution_count": 3,
   "metadata": {},
   "outputs": [],
   "source": [
    "# Separate the target and the feature attribute\n",
    "features = df.columns[0:-1]\n",
    "target = 'target'\n",
    "X = df[features]\n",
    "y = df[[target]]\n",
    "\n",
    "# Use train test split to separate the training and testing data\n",
    "X_train, X_test, y_train, y_test = train_test_split(X, y, test_size=0.15,random_state=42, stratify=y)\n"
   ]
  },
  {
   "cell_type": "code",
   "execution_count": 4,
   "metadata": {},
   "outputs": [],
   "source": [
    "#Set the base predictor to Decision Tree\n",
    "\n",
    "dt=DecisionTreeClassifier()\n"
   ]
  },
  {
   "cell_type": "code",
   "execution_count": 5,
   "metadata": {},
   "outputs": [
    {
     "name": "stdout",
     "output_type": "stream",
     "text": [
      "The best accuracy score from this model is:\n",
      "0.9572845804988662\n",
      "The best hyperparameter configuration is:\n",
      "{'bootstrap_features': True, 'max_features': 5, 'max_samples': 120, 'n_estimators': 50}\n"
     ]
    }
   ],
   "source": [
    "#We will find the best parameters for bagging by passing a range of parameters \n",
    "#in the GridSearchCV function and using RepeatedKFold Cross Validation\n",
    "finding_best_parameter_bagging_classifier = BaggingClassifier(base_estimator=dt)\n",
    "parameters = {\n",
    "'bootstrap_features': [True,False],\n",
    "'max_features': [5,10,15],\n",
    "'max_samples': [80,100,120],\n",
    "'n_estimators': [50,75,100],\n",
    "}\n",
    "#Use GridSearchCV to get the best parameters that will give the best accuracy\n",
    "search = GridSearchCV(finding_best_parameter_bagging_classifier, parameters, cv=RepeatedKFold(n_splits=10,n_repeats=3,random_state=42))\n",
    "\n",
    "#Fit that model on the dataset\n",
    "best_model = search.fit(X_train,y_train.values.ravel())\n",
    "\n",
    "#Print the best accuracy and the parameters\n",
    "print('The best accuracy score from this model is:')\n",
    "print(best_model.best_score_)\n",
    "print('The best hyperparameter configuration is:')\n",
    "print(best_model.best_params_)"
   ]
  },
  {
   "cell_type": "code",
   "execution_count": 6,
   "metadata": {},
   "outputs": [
    {
     "name": "stdout",
     "output_type": "stream",
     "text": [
      "The score on training data is 0.9834368530020704\n",
      "The score on testing data is 0.9418604651162791\n"
     ]
    },
    {
     "name": "stderr",
     "output_type": "stream",
     "text": [
      "/N/u/sdabhane/Carbonate/.conda/envs/CV/lib/python3.8/site-packages/sklearn/utils/validation.py:73: DataConversionWarning: A column-vector y was passed when a 1d array was expected. Please change the shape of y to (n_samples, ), for example using ravel().\n",
      "  return f(**kwargs)\n"
     ]
    }
   ],
   "source": [
    "#Call the bagging classifier function with the best parameters\n",
    "bagging_classifier = BaggingClassifier(base_estimator=dt,max_features=5,max_samples=120,n_estimators=50,bootstrap=True,random_state=42)\n",
    "\n",
    "#Fit that model on the dataset\n",
    "bagging_classifier.fit(X_train, y_train)\n",
    "\n",
    "#Print the coefficient of determination R^2 of the predictions on training and testing dataset\n",
    "#A high score indicates that the model has good accuracy\n",
    "print(\"The score on training data is\",bagging_classifier.score(X_train, y_train))\n",
    "print(\"The score on testing data is\",bagging_classifier.score(X_test, y_test))"
   ]
  },
  {
   "cell_type": "code",
   "execution_count": 7,
   "metadata": {},
   "outputs": [
    {
     "name": "stdout",
     "output_type": "stream",
     "text": [
      "The best accuracy score from this model is:\n",
      "0.9248157596371881\n",
      "The best hyperparameter configuration is:\n",
      "{'learning_rate': 0.005, 'n_estimators': 100}\n"
     ]
    }
   ],
   "source": [
    "#We will find the best parameters for adaboost by passing a range of parameters \n",
    "#in the GridSearchCV function and using RepeatedKFold Cross Validation\n",
    "\n",
    "finding_best_parameter_adaboost_classifier = AdaBoostClassifier(base_estimator=dt)\n",
    "\n",
    "#Set the parameters\n",
    "parameters = {\n",
    "'learning_rate': [0.0005,0.005,0.05,0.5],\n",
    "'n_estimators': [25, 75, 100]\n",
    "}\n",
    "\n",
    "#Use GridSearchCV to get the best parameters that will give the best accuracy\n",
    "search = GridSearchCV(finding_best_parameter_adaboost_classifier, parameters, cv=RepeatedKFold(n_splits=10,n_repeats=3,random_state=42))\n",
    "\n",
    "#Fit that model on the dataset\n",
    "best_model = search.fit(X_train,y_train.values.ravel())\n",
    "\n",
    "#Print the best accuracy and the parameters \n",
    "print('The best accuracy score from this model is:')\n",
    "print(best_model.best_score_)\n",
    "print('The best hyperparameter configuration is:')\n",
    "print(best_model.best_params_)"
   ]
  },
  {
   "cell_type": "code",
   "execution_count": 8,
   "metadata": {},
   "outputs": [
    {
     "name": "stdout",
     "output_type": "stream",
     "text": [
      "The score on training data is 1.0\n",
      "The score on testing data is 0.9302325581395349\n"
     ]
    },
    {
     "name": "stderr",
     "output_type": "stream",
     "text": [
      "/N/u/sdabhane/Carbonate/.conda/envs/CV/lib/python3.8/site-packages/sklearn/utils/validation.py:73: DataConversionWarning: A column-vector y was passed when a 1d array was expected. Please change the shape of y to (n_samples, ), for example using ravel().\n",
      "  return f(**kwargs)\n"
     ]
    }
   ],
   "source": [
    "#Call the AdaBoostClassifier with the best parameters set from the previous cell\n",
    "adaboost_classifier = AdaBoostClassifier(base_estimator=dt,learning_rate=0.005,n_estimators=100,random_state=42)\n",
    "\n",
    "#Fit that model on the dataset\n",
    "adaboost_classifier.fit(X_train, y_train)\n",
    "\n",
    "#Print the coefficient of determination R^2 of the predictions on training and testing dataset:\n",
    "#A high score indicates that the model has good accuracy\n",
    "print(\"The score on training data is\",adaboost_classifier.score(X_train, y_train))\n",
    "print(\"The score on testing data is\",adaboost_classifier.score(X_test, y_test))\n"
   ]
  },
  {
   "cell_type": "markdown",
   "metadata": {},
   "source": [
    "As we can observe here:\n",
    "\n",
    "1. The best performance of BaggingClassifier with Decision Tree as the base predictor is when the following parameters are set:\n",
    "\n",
    "**bootstrap_features=True, max_features=5, max_samples=120, n_estimators=50**\n",
    "\n",
    "The BaggingClassifier gives us an accuracy of **0.9572845804988662** for the above parameters\n",
    "\n",
    "2. The best performance of AdaBoostClassifier with Decision Tree as the base predictor is when the following parameters are set:\n",
    "\n",
    "**learning_rate=0.005,n_estimators=100**\n",
    "\n",
    "The AdaBoostClassifier gives us an accuracy of **0.9248157596371881** for the above parameters\n",
    "\n",
    "3. Based on the given best configurations for each ensemble method, BaggingClassifier performs better compared to AdaBoostClassifier on the breast cancer dataset as it gives better accuracy."
   ]
  },
  {
   "cell_type": "markdown",
   "metadata": {},
   "source": [
    "References used in this code:\n",
    "\n",
    "[1]. https://stackoverflow.com/questions/48769682/how-do-i-convert-data-from-a-scikit-learn-bunch-object-to-a-pandas-dataframe\n",
    "\n",
    "[2]. https://scikit-learn.org/stable/modules/generated/sklearn.ensemble.AdaBoostClassifier.html\n",
    "\n",
    "[3]. https://scikit-learn.org/stable/modules/generated/sklearn.model_selection.GridSearchCV.html\n",
    "\n",
    "[4]. https://scikit-learn.org/stable/modules/generated/sklearn.model_selection.RepeatedKFold.html\n",
    "\n",
    "[5]. https://scikit-learn.org/stable/modules/generated/sklearn.ensemble.BaggingClassifier.html\n",
    "\n",
    "[6]. https://scikit-learn.org/stable/modules/generated/sklearn.tree.DecisionTreeClassifier.html\n",
    "\n",
    "[7]. https://scikit-learn.org/stable/modules/generated/sklearn.datasets.load_breast_cancer.html\n",
    "\n",
    "[8]. https://scikit-learn.org/stable/modules/generated/sklearn.model_selection.train_test_split.html\n",
    "\n",
    "[9]. Discussed Question 1 and Question 3 with Mohit Dalvi. "
   ]
  },
  {
   "cell_type": "code",
   "execution_count": null,
   "metadata": {},
   "outputs": [],
   "source": []
  }
 ],
 "metadata": {
  "kernelspec": {
   "display_name": "Python 3",
   "language": "python",
   "name": "python3"
  },
  "language_info": {
   "codemirror_mode": {
    "name": "ipython",
    "version": 3
   },
   "file_extension": ".py",
   "mimetype": "text/x-python",
   "name": "python",
   "nbconvert_exporter": "python",
   "pygments_lexer": "ipython3",
   "version": "3.7.6"
  }
 },
 "nbformat": 4,
 "nbformat_minor": 4
}
