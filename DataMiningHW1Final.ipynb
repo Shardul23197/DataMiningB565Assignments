{
 "cells": [
  {
   "cell_type": "markdown",
   "metadata": {},
   "source": [
    "Q1. Tan Chapter 2, Problem 8. Discuss why a document-term matrix is an example of\n",
    "a data set that has asymmetric discrete or asymmetric continuous features. [10 pts]\n",
    "\n",
    "\n",
    "Answer:\n",
    "\n",
    "The value of the i,jth entry of a document-term matrix is the number of times the jth term occurs in the iih document. The data was processed using standard techniques to remove common words, to adjust for the different frequencies with which terms appear and to adjust for the different lengths of documents.\n",
    "\n",
    "Most documents contain only a small fraction of all the possible terms, and hence, zero entries are not very meaningful, either in describing or comparing documents. Thus, a document-term matrix has asymmetric discrete features. If we apply a TFIDF normalization to terms and normalize the documents to have an L2 norm of 1, then this creates a term-document matrix with continuous features. However, the features are still asymmetric because these transformations do not create non-zero entries for any entries that were previously 0, and thus, zero entries are still not very meaningful.\n"
   ]
  },
  {
   "cell_type": "markdown",
   "metadata": {},
   "source": [
    "Q2. Tan Chapter 2, Problem 12. Distinguish between noise and outliers. Be sure to consider the following questions. [10 pts]\n",
    "\n",
    "• Is noise ever interesting or desirable? Outliers?\n",
    "\n",
    "Answer: \n",
    "i. By definition, noise is never desirable. It distorts the original attribute values.  \n",
    "ii. Outliers can be interesting and desriable. They can be legitimate values and even finding outliers can be the task of some data mining problems. \n",
    "\n",
    "• Can noise objects be outliers?\n",
    "\n",
    "Answer: Random distortion of the data is often responsible for outliers. Noise can make the data look more randomized and unusual. Therefore, noise objects can be outliers. \n",
    "\n",
    "• Are noise objects always outliers?\n",
    "\n",
    "Answer: Noisy data can appear as normal data. Random distortion can result in an object or value much like a normal one. Hence, noise objects are not always outliers. \n",
    "\n",
    "• Are outliers always noise objects?\n",
    "\n",
    "Answer: Often outliers merely represent a class of objects that are different from normal objects. Outliers can be legitimate data objects that appear to not belong in the data set. Those outliers would typically not classify as noise objects. Hence, outliers are not always noise objects. \n",
    "\n",
    "• Can noise make a typical value into an unusual one, or vice versa?\n",
    "\n",
    "Answer: Noise can make a typical value into an unusual one and vice versa. The source of noise in data can randomly make some values appear as unusual or some outliers as typical data objects. Hence, noise can make a typical value into an unusual one and vice versa. "
   ]
  },
  {
   "cell_type": "markdown",
   "metadata": {},
   "source": [
    "Q3. Implement a notebook on Kaggle to explore this dataset. This dataset lists the\n",
    "number of antibiotic resistance genes (AMR), and the presence or absence of the\n",
    "CRISPR-Cas systems in the genomes included in the file. Report what you have\n",
    "learned by including the html output from your notebook in the PDF file you are\n",
    "going to submit. What to check? The distribution of the two variables (AMR,\n",
    "CRISPR-Cas), and if there is any correlation between the two variables. [25 pts]\n"
   ]
  },
  {
   "cell_type": "markdown",
   "metadata": {},
   "source": [
    "First, we will import all the required libraries. "
   ]
  },
  {
   "cell_type": "code",
   "execution_count": 1,
   "metadata": {},
   "outputs": [],
   "source": [
    "import pandas as pd\n",
    "import numpy as np\n",
    "from matplotlib import pyplot as plt"
   ]
  },
  {
   "cell_type": "markdown",
   "metadata": {},
   "source": [
    "Then we will read the data from the csv and get the gist of the dataset. "
   ]
  },
  {
   "cell_type": "code",
   "execution_count": 2,
   "metadata": {},
   "outputs": [
    {
     "data": {
      "text/html": [
       "<div>\n",
       "<style scoped>\n",
       "    .dataframe tbody tr th:only-of-type {\n",
       "        vertical-align: middle;\n",
       "    }\n",
       "\n",
       "    .dataframe tbody tr th {\n",
       "        vertical-align: top;\n",
       "    }\n",
       "\n",
       "    .dataframe thead th {\n",
       "        text-align: right;\n",
       "    }\n",
       "</style>\n",
       "<table border=\"1\" class=\"dataframe\">\n",
       "  <thead>\n",
       "    <tr style=\"text-align: right;\">\n",
       "      <th></th>\n",
       "      <th>genome_ID</th>\n",
       "      <th>CRISPR_Cas</th>\n",
       "      <th>AMR</th>\n",
       "    </tr>\n",
       "  </thead>\n",
       "  <tbody>\n",
       "    <tr>\n",
       "      <th>0</th>\n",
       "      <td>GCA_010120755.1_ASM1012075v1</td>\n",
       "      <td>0</td>\n",
       "      <td>8</td>\n",
       "    </tr>\n",
       "    <tr>\n",
       "      <th>1</th>\n",
       "      <td>GCA_001720945.1_ASM172094v1</td>\n",
       "      <td>0</td>\n",
       "      <td>21</td>\n",
       "    </tr>\n",
       "    <tr>\n",
       "      <th>2</th>\n",
       "      <td>GCA_009697285.1_ASM969728v1</td>\n",
       "      <td>0</td>\n",
       "      <td>13</td>\n",
       "    </tr>\n",
       "    <tr>\n",
       "      <th>3</th>\n",
       "      <td>GCA_900639535.1_E8202_hybrid_assembly</td>\n",
       "      <td>0</td>\n",
       "      <td>11</td>\n",
       "    </tr>\n",
       "    <tr>\n",
       "      <th>4</th>\n",
       "      <td>GCA_002007625.1_ASM200762v1</td>\n",
       "      <td>0</td>\n",
       "      <td>18</td>\n",
       "    </tr>\n",
       "  </tbody>\n",
       "</table>\n",
       "</div>"
      ],
      "text/plain": [
       "                               genome_ID  CRISPR_Cas  AMR\n",
       "0           GCA_010120755.1_ASM1012075v1           0    8\n",
       "1            GCA_001720945.1_ASM172094v1           0   21\n",
       "2            GCA_009697285.1_ASM969728v1           0   13\n",
       "3  GCA_900639535.1_E8202_hybrid_assembly           0   11\n",
       "4            GCA_002007625.1_ASM200762v1           0   18"
      ]
     },
     "execution_count": 2,
     "metadata": {},
     "output_type": "execute_result"
    }
   ],
   "source": [
    "amr_data = pd.read_csv(\"Efaecium_AMRC.csv\")\n",
    "\n",
    "# Gist of the dataset\n",
    "amr_data.head()"
   ]
  },
  {
   "cell_type": "code",
   "execution_count": 3,
   "metadata": {},
   "outputs": [
    {
     "data": {
      "text/html": [
       "<div>\n",
       "<style scoped>\n",
       "    .dataframe tbody tr th:only-of-type {\n",
       "        vertical-align: middle;\n",
       "    }\n",
       "\n",
       "    .dataframe tbody tr th {\n",
       "        vertical-align: top;\n",
       "    }\n",
       "\n",
       "    .dataframe thead th {\n",
       "        text-align: right;\n",
       "    }\n",
       "</style>\n",
       "<table border=\"1\" class=\"dataframe\">\n",
       "  <thead>\n",
       "    <tr style=\"text-align: right;\">\n",
       "      <th></th>\n",
       "      <th>genome_ID</th>\n",
       "      <th>CRISPR_Cas</th>\n",
       "      <th>AMR</th>\n",
       "    </tr>\n",
       "  </thead>\n",
       "  <tbody>\n",
       "    <tr>\n",
       "      <th>0</th>\n",
       "      <td>GCA_010120755.1_ASM1012075v1</td>\n",
       "      <td>0</td>\n",
       "      <td>8</td>\n",
       "    </tr>\n",
       "    <tr>\n",
       "      <th>1</th>\n",
       "      <td>GCA_001720945.1_ASM172094v1</td>\n",
       "      <td>0</td>\n",
       "      <td>21</td>\n",
       "    </tr>\n",
       "    <tr>\n",
       "      <th>2</th>\n",
       "      <td>GCA_009697285.1_ASM969728v1</td>\n",
       "      <td>0</td>\n",
       "      <td>13</td>\n",
       "    </tr>\n",
       "    <tr>\n",
       "      <th>3</th>\n",
       "      <td>GCA_900639535.1_E8202_hybrid_assembly</td>\n",
       "      <td>0</td>\n",
       "      <td>11</td>\n",
       "    </tr>\n",
       "    <tr>\n",
       "      <th>4</th>\n",
       "      <td>GCA_002007625.1_ASM200762v1</td>\n",
       "      <td>0</td>\n",
       "      <td>18</td>\n",
       "    </tr>\n",
       "    <tr>\n",
       "      <th>...</th>\n",
       "      <td>...</td>\n",
       "      <td>...</td>\n",
       "      <td>...</td>\n",
       "    </tr>\n",
       "    <tr>\n",
       "      <th>2218</th>\n",
       "      <td>GCA_001058635.1_ASM105863v1</td>\n",
       "      <td>0</td>\n",
       "      <td>24</td>\n",
       "    </tr>\n",
       "    <tr>\n",
       "      <th>2219</th>\n",
       "      <td>GCA_900148625.1_Hp_24-1_05</td>\n",
       "      <td>0</td>\n",
       "      <td>16</td>\n",
       "    </tr>\n",
       "    <tr>\n",
       "      <th>2220</th>\n",
       "      <td>GCA_000981965.1_ASM98196v1</td>\n",
       "      <td>0</td>\n",
       "      <td>0</td>\n",
       "    </tr>\n",
       "    <tr>\n",
       "      <th>2221</th>\n",
       "      <td>GCA_002158235.1_ASM215823v1</td>\n",
       "      <td>0</td>\n",
       "      <td>10</td>\n",
       "    </tr>\n",
       "    <tr>\n",
       "      <th>2222</th>\n",
       "      <td>GCA_900080195.1_Isolate_3</td>\n",
       "      <td>0</td>\n",
       "      <td>18</td>\n",
       "    </tr>\n",
       "  </tbody>\n",
       "</table>\n",
       "<p>2223 rows × 3 columns</p>\n",
       "</div>"
      ],
      "text/plain": [
       "                                  genome_ID  CRISPR_Cas  AMR\n",
       "0              GCA_010120755.1_ASM1012075v1           0    8\n",
       "1               GCA_001720945.1_ASM172094v1           0   21\n",
       "2               GCA_009697285.1_ASM969728v1           0   13\n",
       "3     GCA_900639535.1_E8202_hybrid_assembly           0   11\n",
       "4               GCA_002007625.1_ASM200762v1           0   18\n",
       "...                                     ...         ...  ...\n",
       "2218            GCA_001058635.1_ASM105863v1           0   24\n",
       "2219             GCA_900148625.1_Hp_24-1_05           0   16\n",
       "2220             GCA_000981965.1_ASM98196v1           0    0\n",
       "2221            GCA_002158235.1_ASM215823v1           0   10\n",
       "2222              GCA_900080195.1_Isolate_3           0   18\n",
       "\n",
       "[2223 rows x 3 columns]"
      ]
     },
     "execution_count": 3,
     "metadata": {},
     "output_type": "execute_result"
    }
   ],
   "source": [
    "amr_data"
   ]
  },
  {
   "cell_type": "markdown",
   "metadata": {},
   "source": [
    "We will describe the datatypes of all the columns present. "
   ]
  },
  {
   "cell_type": "code",
   "execution_count": 20,
   "metadata": {},
   "outputs": [
    {
     "data": {
      "text/plain": [
       "genome_ID     object\n",
       "CRISPR_Cas     int64\n",
       "AMR            int64\n",
       "dtype: object"
      ]
     },
     "execution_count": 20,
     "metadata": {},
     "output_type": "execute_result"
    }
   ],
   "source": [
    "amr_data.dtypes"
   ]
  },
  {
   "cell_type": "markdown",
   "metadata": {},
   "source": [
    "We can see that the column \"CRISPR_Cas\" is a binary attribute with only 2 values: 0 and 1. All columns have nominal attributes in them. \n",
    "\n",
    "We'll use the describe function in pandas to find the mean, minimum, maximum, etc. of each column. "
   ]
  },
  {
   "cell_type": "code",
   "execution_count": 4,
   "metadata": {},
   "outputs": [
    {
     "data": {
      "text/html": [
       "<div>\n",
       "<style scoped>\n",
       "    .dataframe tbody tr th:only-of-type {\n",
       "        vertical-align: middle;\n",
       "    }\n",
       "\n",
       "    .dataframe tbody tr th {\n",
       "        vertical-align: top;\n",
       "    }\n",
       "\n",
       "    .dataframe thead th {\n",
       "        text-align: right;\n",
       "    }\n",
       "</style>\n",
       "<table border=\"1\" class=\"dataframe\">\n",
       "  <thead>\n",
       "    <tr style=\"text-align: right;\">\n",
       "      <th></th>\n",
       "      <th>genome_ID</th>\n",
       "      <th>CRISPR_Cas</th>\n",
       "      <th>AMR</th>\n",
       "    </tr>\n",
       "  </thead>\n",
       "  <tbody>\n",
       "    <tr>\n",
       "      <th>count</th>\n",
       "      <td>2223</td>\n",
       "      <td>2223.000000</td>\n",
       "      <td>2223.000000</td>\n",
       "    </tr>\n",
       "    <tr>\n",
       "      <th>unique</th>\n",
       "      <td>2223</td>\n",
       "      <td>NaN</td>\n",
       "      <td>NaN</td>\n",
       "    </tr>\n",
       "    <tr>\n",
       "      <th>top</th>\n",
       "      <td>GCA_002945895.1_ASM294589v1</td>\n",
       "      <td>NaN</td>\n",
       "      <td>NaN</td>\n",
       "    </tr>\n",
       "    <tr>\n",
       "      <th>freq</th>\n",
       "      <td>1</td>\n",
       "      <td>NaN</td>\n",
       "      <td>NaN</td>\n",
       "    </tr>\n",
       "    <tr>\n",
       "      <th>mean</th>\n",
       "      <td>NaN</td>\n",
       "      <td>0.024741</td>\n",
       "      <td>10.330184</td>\n",
       "    </tr>\n",
       "    <tr>\n",
       "      <th>std</th>\n",
       "      <td>NaN</td>\n",
       "      <td>0.155371</td>\n",
       "      <td>6.661470</td>\n",
       "    </tr>\n",
       "    <tr>\n",
       "      <th>min</th>\n",
       "      <td>NaN</td>\n",
       "      <td>0.000000</td>\n",
       "      <td>0.000000</td>\n",
       "    </tr>\n",
       "    <tr>\n",
       "      <th>25%</th>\n",
       "      <td>NaN</td>\n",
       "      <td>0.000000</td>\n",
       "      <td>3.000000</td>\n",
       "    </tr>\n",
       "    <tr>\n",
       "      <th>50%</th>\n",
       "      <td>NaN</td>\n",
       "      <td>0.000000</td>\n",
       "      <td>12.000000</td>\n",
       "    </tr>\n",
       "    <tr>\n",
       "      <th>75%</th>\n",
       "      <td>NaN</td>\n",
       "      <td>0.000000</td>\n",
       "      <td>16.000000</td>\n",
       "    </tr>\n",
       "    <tr>\n",
       "      <th>max</th>\n",
       "      <td>NaN</td>\n",
       "      <td>1.000000</td>\n",
       "      <td>31.000000</td>\n",
       "    </tr>\n",
       "  </tbody>\n",
       "</table>\n",
       "</div>"
      ],
      "text/plain": [
       "                          genome_ID   CRISPR_Cas          AMR\n",
       "count                          2223  2223.000000  2223.000000\n",
       "unique                         2223          NaN          NaN\n",
       "top     GCA_002945895.1_ASM294589v1          NaN          NaN\n",
       "freq                              1          NaN          NaN\n",
       "mean                            NaN     0.024741    10.330184\n",
       "std                             NaN     0.155371     6.661470\n",
       "min                             NaN     0.000000     0.000000\n",
       "25%                             NaN     0.000000     3.000000\n",
       "50%                             NaN     0.000000    12.000000\n",
       "75%                             NaN     0.000000    16.000000\n",
       "max                             NaN     1.000000    31.000000"
      ]
     },
     "execution_count": 4,
     "metadata": {},
     "output_type": "execute_result"
    }
   ],
   "source": [
    "amr_data.describe(include='all')"
   ]
  },
  {
   "cell_type": "code",
   "execution_count": 5,
   "metadata": {},
   "outputs": [],
   "source": [
    "amr_data.columns = ['genome_ID', 'CRISPR_Cas', 'AMR']"
   ]
  },
  {
   "cell_type": "markdown",
   "metadata": {},
   "source": [
    "# Distribution\n",
    "\n",
    "First, we plot a histogram that shows the distribution of the attribute values. "
   ]
  },
  {
   "cell_type": "code",
   "execution_count": 6,
   "metadata": {},
   "outputs": [
    {
     "data": {
      "text/plain": [
       "<matplotlib.axes._subplots.AxesSubplot at 0x1f58e836588>"
      ]
     },
     "execution_count": 6,
     "metadata": {},
     "output_type": "execute_result"
    },
    {
     "data": {
      "image/png": "[encoded data removed]",
      "text/plain": [
       "<Figure size 432x288 with 1 Axes>"
      ]
     },
     "metadata": {
      "needs_background": "light"
     },
     "output_type": "display_data"
    }
   ],
   "source": [
    "#distribution\n",
    "amr_data['AMR'].hist(bins=10)"
   ]
  },
  {
   "cell_type": "code",
   "execution_count": 7,
   "metadata": {},
   "outputs": [
    {
     "data": {
      "text/plain": [
       "<matplotlib.axes._subplots.AxesSubplot at 0x1f59098b948>"
      ]
     },
     "execution_count": 7,
     "metadata": {},
     "output_type": "execute_result"
    },
    {
     "data": {
      "image/png": "[encoded data removed]",
      "text/plain": [
       "<Figure size 432x288 with 1 Axes>"
      ]
     },
     "metadata": {
      "needs_background": "light"
     },
     "output_type": "display_data"
    }
   ],
   "source": [
    "#distribution\n",
    "amr_data['CRISPR_Cas'].hist(bins=10)"
   ]
  },
  {
   "cell_type": "markdown",
   "metadata": {},
   "source": [
    "We will also show the distribution of values for each attribute using boxplot"
   ]
  },
  {
   "cell_type": "code",
   "execution_count": 8,
   "metadata": {},
   "outputs": [
    {
     "data": {
      "text/plain": [
       "<matplotlib.axes._subplots.AxesSubplot at 0x1f590a1d348>"
      ]
     },
     "execution_count": 8,
     "metadata": {},
     "output_type": "execute_result"
    },
    {
     "data": {
      "image/png": "[encoded data removed]",
      "text/plain": [
       "<Figure size 432x288 with 1 Axes>"
      ]
     },
     "metadata": {
      "needs_background": "light"
     },
     "output_type": "display_data"
    }
   ],
   "source": [
    "#distribution\n",
    "amr_data.boxplot()"
   ]
  },
  {
   "cell_type": "markdown",
   "metadata": {},
   "source": [
    "For each pair of attributes, we can use a scatter plot to visualize their joint distribution."
   ]
  },
  {
   "cell_type": "code",
   "execution_count": 9,
   "metadata": {},
   "outputs": [
    {
     "data": {
      "image/png": "[encoded data removed]",
      "text/plain": [
       "<Figure size 432x288 with 1 Axes>"
      ]
     },
     "metadata": {
      "needs_background": "light"
     },
     "output_type": "display_data"
    }
   ],
   "source": [
    "\n",
    "x=amr_data['CRISPR_Cas'].tolist()\n",
    "y=amr_data['AMR'].tolist()\n",
    "plt.scatter(x, y)\n",
    "plt.show()"
   ]
  },
  {
   "cell_type": "code",
   "execution_count": 10,
   "metadata": {},
   "outputs": [
    {
     "data": {
      "image/png": "[encoded data removed]",
      "text/plain": [
       "<Figure size 432x288 with 1 Axes>"
      ]
     },
     "metadata": {
      "needs_background": "light"
     },
     "output_type": "display_data"
    }
   ],
   "source": [
    "y=amr_data['CRISPR_Cas'].tolist()\n",
    "x=amr_data['AMR'].tolist()\n",
    "plt.scatter(x, y)\n",
    "plt.show()"
   ]
  },
  {
   "cell_type": "code",
   "execution_count": 11,
   "metadata": {},
   "outputs": [
    {
     "data": {
      "image/png": "[encoded data removed]",
      "text/plain": [
       "<Figure size 864x864 with 6 Axes>"
      ]
     },
     "metadata": {
      "needs_background": "light"
     },
     "output_type": "display_data"
    }
   ],
   "source": [
    "import matplotlib.pyplot as plt\n",
    "\n",
    "fig, axes = plt.subplots(3, 2, figsize=(12,12))\n",
    "index = 0\n",
    "ax1 = int(index/2)\n",
    "ax2 = index % 2\n",
    "axes[ax1][ax2].scatter(amr_data[amr_data.columns[1]], amr_data[amr_data.columns[2]], color='red')\n",
    "axes[ax1][ax2].set_xlabel(amr_data.columns[1])\n",
    "axes[ax1][ax2].set_ylabel(amr_data.columns[2])\n",
    "index = index + 1"
   ]
  },
  {
   "cell_type": "markdown",
   "metadata": {},
   "source": [
    "We will now find the correlation between the two columns. "
   ]
  },
  {
   "cell_type": "code",
   "execution_count": 29,
   "metadata": {},
   "outputs": [
    {
     "name": "stdout",
     "output_type": "stream",
     "text": [
      "Correlation:\n"
     ]
    },
    {
     "data": {
      "text/html": [
       "<div>\n",
       "<style scoped>\n",
       "    .dataframe tbody tr th:only-of-type {\n",
       "        vertical-align: middle;\n",
       "    }\n",
       "\n",
       "    .dataframe tbody tr th {\n",
       "        vertical-align: top;\n",
       "    }\n",
       "\n",
       "    .dataframe thead th {\n",
       "        text-align: right;\n",
       "    }\n",
       "</style>\n",
       "<table border=\"1\" class=\"dataframe\">\n",
       "  <thead>\n",
       "    <tr style=\"text-align: right;\">\n",
       "      <th></th>\n",
       "      <th>CRISPR_Cas</th>\n",
       "      <th>AMR</th>\n",
       "    </tr>\n",
       "  </thead>\n",
       "  <tbody>\n",
       "    <tr>\n",
       "      <th>CRISPR_Cas</th>\n",
       "      <td>1.000000</td>\n",
       "      <td>-0.156173</td>\n",
       "    </tr>\n",
       "    <tr>\n",
       "      <th>AMR</th>\n",
       "      <td>-0.156173</td>\n",
       "      <td>1.000000</td>\n",
       "    </tr>\n",
       "  </tbody>\n",
       "</table>\n",
       "</div>"
      ],
      "text/plain": [
       "            CRISPR_Cas       AMR\n",
       "CRISPR_Cas    1.000000 -0.156173\n",
       "AMR          -0.156173  1.000000"
      ]
     },
     "execution_count": 29,
     "metadata": {},
     "output_type": "execute_result"
    }
   ],
   "source": [
    "print('Correlation:')\n",
    "amr_data.corr()"
   ]
  },
  {
   "cell_type": "markdown",
   "metadata": {},
   "source": [
    "The correlation matrix shows the following information\n",
    "\n",
    "            x-values    y-values\n",
    "            \n",
    "x-values    1.00000     -0.156173\n",
    "\n",
    "y-values   -0.156173    1.00000\n",
    "\n",
    "The negative value of correlation coefficient indicates how much the 2 variables move in opposite directions. An increase in CRISPR_Cas means a decrease in AMR and vice versa."
   ]
  },
  {
   "cell_type": "markdown",
   "metadata": {},
   "source": [
    "Q4. Learn about Omicron using Google Trend. Write a brief summary including four highlights of what you have learned. [25 pts].\n",
    "(Solved in PDF)\n"
   ]
  },
  {
   "cell_type": "markdown",
   "metadata": {},
   "source": [
    "Q5. Write a summary for this paper: COVID-19 or Flu? Discriminative Knowledge\n",
    "Discovery of COVID-19 Symptoms from Google Trends Data. [30 pts]\n",
    "\n",
    "• The length of your summary is about one page.\n",
    "\n",
    "• State main ideas: problem that the paper tries to address, what data was used,\n",
    "and what was the method that was applied/developed to solve the problem?\n",
    "\n",
    "• Add your personal opinion. Do you like the paper or not? Why? How do you\n",
    "think about the paper?\n",
    "\n",
    "\n",
    "• Write the summary in your own words; don’t copy and paste. \n",
    "\n",
    "(Solved in PDF)\n"
   ]
  }
 ],
 "metadata": {
  "kernelspec": {
   "display_name": "Python 3",
   "language": "python",
   "name": "python3"
  },
  "language_info": {
   "codemirror_mode": {
    "name": "ipython",
    "version": 3
   },
   "file_extension": ".py",
   "mimetype": "text/x-python",
   "name": "python",
   "nbconvert_exporter": "python",
   "pygments_lexer": "ipython3",
   "version": "3.7.6"
  }
 },
 "nbformat": 4,
 "nbformat_minor": 4
}
